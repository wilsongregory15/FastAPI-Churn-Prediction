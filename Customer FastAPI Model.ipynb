{
  "cells": [
    {
      "cell_type": "markdown",
      "metadata": {
        "id": "TKkJV6CT0sCo"
      },
      "source": [
        "## Customer Churn Prediction\n",
        "\n",
        "##### Objective: This project aims to predict customer churn by leveraging customer data and advanced machine learning techniques. The final model will be deployed using FastAPI, enabling real-time predictions through an interactive API interface."
      ]
    },
    {
      "cell_type": "markdown",
      "metadata": {
        "id": "7JgBnXKh0r73"
      },
      "source": [
        "## Import Data"
      ]
    },
    {
      "cell_type": "code",
      "execution_count": 1,
      "metadata": {
        "id": "_c1BBSH5Otey"
      },
      "outputs": [],
      "source": [
        "#!pip uninstall numpy\n",
        "#!pip install numpy==2.0.0 "
      ]
    },
    {
      "cell_type": "code",
      "execution_count": 2,
      "metadata": {
        "id": "kpUYeBBk03kd"
      },
      "outputs": [],
      "source": [
        "import pandas as pd\n",
        "import numpy as np\n",
        "import matplotlib.pyplot as plt\n",
        "import seaborn as sns\n",
        "import pickle\n",
        "import joblib\n",
        "import os\n",
        "from sklearn.model_selection import train_test_split\n",
        "from sklearn.preprocessing import StandardScaler, OneHotEncoder, LabelEncoder\n",
        "from sklearn.compose import ColumnTransformer\n",
        "from sklearn.pipeline import Pipeline\n",
        "from sklearn.ensemble import RandomForestClassifier\n",
        "from sklearn.ensemble import BaggingClassifier\n",
        "from sklearn.ensemble import GradientBoostingClassifier\n",
        "from sklearn.ensemble import StackingClassifier\n",
        "from sklearn.model_selection import GridSearchCV\n",
        "from sklearn.linear_model import LogisticRegression\n",
        "from sklearn.metrics import classification_report, confusion_matrix\n",
        "from sklearn.metrics import accuracy_score, classification_report, precision_score, f1_score\n",
        "from tabulate import tabulate\n",
        "from sklearn.preprocessing import RobustScaler"
      ]
    },
    {
      "cell_type": "code",
      "execution_count": 3,
      "metadata": {
        "colab": {
          "base_uri": "https://localhost:8080/"
        },
        "id": "SUwNx_RAbC1B",
        "outputId": "dcb400b9-6be0-4ca1-ab30-2e0f4bfc7be4"
      },
      "outputs": [
        {
          "name": "stdout",
          "output_type": "stream",
          "text": [
            "Mounted at /content/drive\n"
          ]
        }
      ],
      "source": [
        "from google.colab import drive\n",
        "drive.mount('/content/drive')"
      ]
    },
    {
      "cell_type": "code",
      "execution_count": 4,
      "metadata": {
        "colab": {
          "base_uri": "https://localhost:8080/",
          "height": 206
        },
        "id": "hrmadPIKsq3Y",
        "outputId": "fbaa01ce-72a0-4d6b-f288-6688714162d7"
      },
      "outputs": [
        {
          "data": {
            "application/vnd.google.colaboratory.intrinsic+json": {
              "summary": "{\n  \"name\": \"df\",\n  \"rows\": 8237,\n  \"fields\": [\n    {\n      \"column\": \"Unnamed: 0\",\n      \"properties\": {\n        \"dtype\": \"number\",\n        \"std\": 2377,\n        \"min\": 0,\n        \"max\": 8236,\n        \"num_unique_values\": 8237,\n        \"samples\": [\n          706,\n          5325,\n          1665\n        ],\n        \"semantic_type\": \"\",\n        \"description\": \"\"\n      }\n    },\n    {\n      \"column\": \"age\",\n      \"properties\": {\n        \"dtype\": \"number\",\n        \"std\": 10,\n        \"min\": 17,\n        \"max\": 98,\n        \"num_unique_values\": 73,\n        \"samples\": [\n          32,\n          82,\n          63\n        ],\n        \"semantic_type\": \"\",\n        \"description\": \"\"\n      }\n    },\n    {\n      \"column\": \"job\",\n      \"properties\": {\n        \"dtype\": \"category\",\n        \"num_unique_values\": 12,\n        \"samples\": [\n          \"unknown\",\n          \"student\",\n          \"technician\"\n        ],\n        \"semantic_type\": \"\",\n        \"description\": \"\"\n      }\n    },\n    {\n      \"column\": \"marital\",\n      \"properties\": {\n        \"dtype\": \"category\",\n        \"num_unique_values\": 4,\n        \"samples\": [\n          \"married\",\n          \"unknown\",\n          \"single\"\n        ],\n        \"semantic_type\": \"\",\n        \"description\": \"\"\n      }\n    },\n    {\n      \"column\": \"education\",\n      \"properties\": {\n        \"dtype\": \"category\",\n        \"num_unique_values\": 8,\n        \"samples\": [\n          \"university.degree\",\n          \"high.school\",\n          \"basic.9y\"\n        ],\n        \"semantic_type\": \"\",\n        \"description\": \"\"\n      }\n    },\n    {\n      \"column\": \"default\",\n      \"properties\": {\n        \"dtype\": \"category\",\n        \"num_unique_values\": 3,\n        \"samples\": [\n          \"no\",\n          \"unknown\",\n          \"yes\"\n        ],\n        \"semantic_type\": \"\",\n        \"description\": \"\"\n      }\n    },\n    {\n      \"column\": \"housing\",\n      \"properties\": {\n        \"dtype\": \"category\",\n        \"num_unique_values\": 3,\n        \"samples\": [\n          \"yes\",\n          \"no\",\n          \"unknown\"\n        ],\n        \"semantic_type\": \"\",\n        \"description\": \"\"\n      }\n    },\n    {\n      \"column\": \"loan\",\n      \"properties\": {\n        \"dtype\": \"category\",\n        \"num_unique_values\": 3,\n        \"samples\": [\n          \"no\",\n          \"yes\",\n          \"unknown\"\n        ],\n        \"semantic_type\": \"\",\n        \"description\": \"\"\n      }\n    },\n    {\n      \"column\": \"contact\",\n      \"properties\": {\n        \"dtype\": \"category\",\n        \"num_unique_values\": 2,\n        \"samples\": [\n          \"telephone\",\n          \"cellular\"\n        ],\n        \"semantic_type\": \"\",\n        \"description\": \"\"\n      }\n    },\n    {\n      \"column\": \"month\",\n      \"properties\": {\n        \"dtype\": \"category\",\n        \"num_unique_values\": 10,\n        \"samples\": [\n          \"dec\",\n          \"aug\"\n        ],\n        \"semantic_type\": \"\",\n        \"description\": \"\"\n      }\n    },\n    {\n      \"column\": \"day_of_week\",\n      \"properties\": {\n        \"dtype\": \"category\",\n        \"num_unique_values\": 5,\n        \"samples\": [\n          \"mon\",\n          \"tue\"\n        ],\n        \"semantic_type\": \"\",\n        \"description\": \"\"\n      }\n    },\n    {\n      \"column\": \"duration\",\n      \"properties\": {\n        \"dtype\": \"number\",\n        \"std\": 254.94283465484668,\n        \"min\": 0.0,\n        \"max\": 3284.0,\n        \"num_unique_values\": 1022,\n        \"samples\": [\n          1300.0,\n          1068.0\n        ],\n        \"semantic_type\": \"\",\n        \"description\": \"\"\n      }\n    },\n    {\n      \"column\": \"campaign\",\n      \"properties\": {\n        \"dtype\": \"number\",\n        \"std\": 2,\n        \"min\": 1,\n        \"max\": 43,\n        \"num_unique_values\": 31,\n        \"samples\": [\n          25,\n          17\n        ],\n        \"semantic_type\": \"\",\n        \"description\": \"\"\n      }\n    },\n    {\n      \"column\": \"pdays\",\n      \"properties\": {\n        \"dtype\": \"number\",\n        \"std\": 187,\n        \"min\": 0,\n        \"max\": 999,\n        \"num_unique_values\": 21,\n        \"samples\": [\n          999,\n          27\n        ],\n        \"semantic_type\": \"\",\n        \"description\": \"\"\n      }\n    },\n    {\n      \"column\": \"previous\",\n      \"properties\": {\n        \"dtype\": \"number\",\n        \"std\": 0,\n        \"min\": 0,\n        \"max\": 6,\n        \"num_unique_values\": 7,\n        \"samples\": [\n          0,\n          1\n        ],\n        \"semantic_type\": \"\",\n        \"description\": \"\"\n      }\n    },\n    {\n      \"column\": \"poutcome\",\n      \"properties\": {\n        \"dtype\": \"category\",\n        \"num_unique_values\": 3,\n        \"samples\": [\n          \"nonexistent\",\n          \"failure\"\n        ],\n        \"semantic_type\": \"\",\n        \"description\": \"\"\n      }\n    },\n    {\n      \"column\": \"y\",\n      \"properties\": {\n        \"dtype\": \"category\",\n        \"num_unique_values\": 2,\n        \"samples\": [\n          \"yes\",\n          \"no\"\n        ],\n        \"semantic_type\": \"\",\n        \"description\": \"\"\n      }\n    }\n  ]\n}",
              "type": "dataframe",
              "variable_name": "df"
            },
            "text/html": [
              "\n",
              "  <div id=\"df-e4f47a6c-038e-4664-af6e-22eb0d89b71c\" class=\"colab-df-container\">\n",
              "    <div>\n",
              "<style scoped>\n",
              "    .dataframe tbody tr th:only-of-type {\n",
              "        vertical-align: middle;\n",
              "    }\n",
              "\n",
              "    .dataframe tbody tr th {\n",
              "        vertical-align: top;\n",
              "    }\n",
              "\n",
              "    .dataframe thead th {\n",
              "        text-align: right;\n",
              "    }\n",
              "</style>\n",
              "<table border=\"1\" class=\"dataframe\">\n",
              "  <thead>\n",
              "    <tr style=\"text-align: right;\">\n",
              "      <th></th>\n",
              "      <th>Unnamed: 0</th>\n",
              "      <th>age</th>\n",
              "      <th>job</th>\n",
              "      <th>marital</th>\n",
              "      <th>education</th>\n",
              "      <th>default</th>\n",
              "      <th>housing</th>\n",
              "      <th>loan</th>\n",
              "      <th>contact</th>\n",
              "      <th>month</th>\n",
              "      <th>day_of_week</th>\n",
              "      <th>duration</th>\n",
              "      <th>campaign</th>\n",
              "      <th>pdays</th>\n",
              "      <th>previous</th>\n",
              "      <th>poutcome</th>\n",
              "      <th>y</th>\n",
              "    </tr>\n",
              "  </thead>\n",
              "  <tbody>\n",
              "    <tr>\n",
              "      <th>0</th>\n",
              "      <td>0</td>\n",
              "      <td>29</td>\n",
              "      <td>technician</td>\n",
              "      <td>single</td>\n",
              "      <td>basic.9y</td>\n",
              "      <td>no</td>\n",
              "      <td>yes</td>\n",
              "      <td>no</td>\n",
              "      <td>cellular</td>\n",
              "      <td>nov</td>\n",
              "      <td>wed</td>\n",
              "      <td>648.0</td>\n",
              "      <td>1</td>\n",
              "      <td>999</td>\n",
              "      <td>0</td>\n",
              "      <td>nonexistent</td>\n",
              "      <td>no</td>\n",
              "    </tr>\n",
              "    <tr>\n",
              "      <th>1</th>\n",
              "      <td>1</td>\n",
              "      <td>31</td>\n",
              "      <td>admin.</td>\n",
              "      <td>single</td>\n",
              "      <td>university.degree</td>\n",
              "      <td>no</td>\n",
              "      <td>no</td>\n",
              "      <td>no</td>\n",
              "      <td>cellular</td>\n",
              "      <td>aug</td>\n",
              "      <td>wed</td>\n",
              "      <td>295.0</td>\n",
              "      <td>1</td>\n",
              "      <td>999</td>\n",
              "      <td>0</td>\n",
              "      <td>nonexistent</td>\n",
              "      <td>no</td>\n",
              "    </tr>\n",
              "    <tr>\n",
              "      <th>2</th>\n",
              "      <td>2</td>\n",
              "      <td>27</td>\n",
              "      <td>blue-collar</td>\n",
              "      <td>single</td>\n",
              "      <td>basic.9y</td>\n",
              "      <td>no</td>\n",
              "      <td>yes</td>\n",
              "      <td>no</td>\n",
              "      <td>telephone</td>\n",
              "      <td>jul</td>\n",
              "      <td>mon</td>\n",
              "      <td>236.0</td>\n",
              "      <td>2</td>\n",
              "      <td>999</td>\n",
              "      <td>0</td>\n",
              "      <td>nonexistent</td>\n",
              "      <td>no</td>\n",
              "    </tr>\n",
              "    <tr>\n",
              "      <th>3</th>\n",
              "      <td>3</td>\n",
              "      <td>30</td>\n",
              "      <td>services</td>\n",
              "      <td>married</td>\n",
              "      <td>unknown</td>\n",
              "      <td>no</td>\n",
              "      <td>no</td>\n",
              "      <td>no</td>\n",
              "      <td>telephone</td>\n",
              "      <td>may</td>\n",
              "      <td>wed</td>\n",
              "      <td>143.0</td>\n",
              "      <td>3</td>\n",
              "      <td>999</td>\n",
              "      <td>0</td>\n",
              "      <td>nonexistent</td>\n",
              "      <td>no</td>\n",
              "    </tr>\n",
              "    <tr>\n",
              "      <th>4</th>\n",
              "      <td>4</td>\n",
              "      <td>32</td>\n",
              "      <td>technician</td>\n",
              "      <td>married</td>\n",
              "      <td>university.degree</td>\n",
              "      <td>no</td>\n",
              "      <td>no</td>\n",
              "      <td>no</td>\n",
              "      <td>cellular</td>\n",
              "      <td>aug</td>\n",
              "      <td>thu</td>\n",
              "      <td>155.0</td>\n",
              "      <td>1</td>\n",
              "      <td>999</td>\n",
              "      <td>0</td>\n",
              "      <td>nonexistent</td>\n",
              "      <td>no</td>\n",
              "    </tr>\n",
              "  </tbody>\n",
              "</table>\n",
              "</div>\n",
              "    <div class=\"colab-df-buttons\">\n",
              "\n",
              "  <div class=\"colab-df-container\">\n",
              "    <button class=\"colab-df-convert\" onclick=\"convertToInteractive('df-e4f47a6c-038e-4664-af6e-22eb0d89b71c')\"\n",
              "            title=\"Convert this dataframe to an interactive table.\"\n",
              "            style=\"display:none;\">\n",
              "\n",
              "  <svg xmlns=\"http://www.w3.org/2000/svg\" height=\"24px\" viewBox=\"0 -960 960 960\">\n",
              "    <path d=\"M120-120v-720h720v720H120Zm60-500h600v-160H180v160Zm220 220h160v-160H400v160Zm0 220h160v-160H400v160ZM180-400h160v-160H180v160Zm440 0h160v-160H620v160ZM180-180h160v-160H180v160Zm440 0h160v-160H620v160Z\"/>\n",
              "  </svg>\n",
              "    </button>\n",
              "\n",
              "  <style>\n",
              "    .colab-df-container {\n",
              "      display:flex;\n",
              "      gap: 12px;\n",
              "    }\n",
              "\n",
              "    .colab-df-convert {\n",
              "      background-color: #E8F0FE;\n",
              "      border: none;\n",
              "      border-radius: 50%;\n",
              "      cursor: pointer;\n",
              "      display: none;\n",
              "      fill: #1967D2;\n",
              "      height: 32px;\n",
              "      padding: 0 0 0 0;\n",
              "      width: 32px;\n",
              "    }\n",
              "\n",
              "    .colab-df-convert:hover {\n",
              "      background-color: #E2EBFA;\n",
              "      box-shadow: 0px 1px 2px rgba(60, 64, 67, 0.3), 0px 1px 3px 1px rgba(60, 64, 67, 0.15);\n",
              "      fill: #174EA6;\n",
              "    }\n",
              "\n",
              "    .colab-df-buttons div {\n",
              "      margin-bottom: 4px;\n",
              "    }\n",
              "\n",
              "    [theme=dark] .colab-df-convert {\n",
              "      background-color: #3B4455;\n",
              "      fill: #D2E3FC;\n",
              "    }\n",
              "\n",
              "    [theme=dark] .colab-df-convert:hover {\n",
              "      background-color: #434B5C;\n",
              "      box-shadow: 0px 1px 3px 1px rgba(0, 0, 0, 0.15);\n",
              "      filter: drop-shadow(0px 1px 2px rgba(0, 0, 0, 0.3));\n",
              "      fill: #FFFFFF;\n",
              "    }\n",
              "  </style>\n",
              "\n",
              "    <script>\n",
              "      const buttonEl =\n",
              "        document.querySelector('#df-e4f47a6c-038e-4664-af6e-22eb0d89b71c button.colab-df-convert');\n",
              "      buttonEl.style.display =\n",
              "        google.colab.kernel.accessAllowed ? 'block' : 'none';\n",
              "\n",
              "      async function convertToInteractive(key) {\n",
              "        const element = document.querySelector('#df-e4f47a6c-038e-4664-af6e-22eb0d89b71c');\n",
              "        const dataTable =\n",
              "          await google.colab.kernel.invokeFunction('convertToInteractive',\n",
              "                                                    [key], {});\n",
              "        if (!dataTable) return;\n",
              "\n",
              "        const docLinkHtml = 'Like what you see? Visit the ' +\n",
              "          '<a target=\"_blank\" href=https://colab.research.google.com/notebooks/data_table.ipynb>data table notebook</a>'\n",
              "          + ' to learn more about interactive tables.';\n",
              "        element.innerHTML = '';\n",
              "        dataTable['output_type'] = 'display_data';\n",
              "        await google.colab.output.renderOutput(dataTable, element);\n",
              "        const docLink = document.createElement('div');\n",
              "        docLink.innerHTML = docLinkHtml;\n",
              "        element.appendChild(docLink);\n",
              "      }\n",
              "    </script>\n",
              "  </div>\n",
              "\n",
              "\n",
              "<div id=\"df-652c955a-3b91-4595-894a-89f674404a15\">\n",
              "  <button class=\"colab-df-quickchart\" onclick=\"quickchart('df-652c955a-3b91-4595-894a-89f674404a15')\"\n",
              "            title=\"Suggest charts\"\n",
              "            style=\"display:none;\">\n",
              "\n",
              "<svg xmlns=\"http://www.w3.org/2000/svg\" height=\"24px\"viewBox=\"0 0 24 24\"\n",
              "     width=\"24px\">\n",
              "    <g>\n",
              "        <path d=\"M19 3H5c-1.1 0-2 .9-2 2v14c0 1.1.9 2 2 2h14c1.1 0 2-.9 2-2V5c0-1.1-.9-2-2-2zM9 17H7v-7h2v7zm4 0h-2V7h2v10zm4 0h-2v-4h2v4z\"/>\n",
              "    </g>\n",
              "</svg>\n",
              "  </button>\n",
              "\n",
              "<style>\n",
              "  .colab-df-quickchart {\n",
              "      --bg-color: #E8F0FE;\n",
              "      --fill-color: #1967D2;\n",
              "      --hover-bg-color: #E2EBFA;\n",
              "      --hover-fill-color: #174EA6;\n",
              "      --disabled-fill-color: #AAA;\n",
              "      --disabled-bg-color: #DDD;\n",
              "  }\n",
              "\n",
              "  [theme=dark] .colab-df-quickchart {\n",
              "      --bg-color: #3B4455;\n",
              "      --fill-color: #D2E3FC;\n",
              "      --hover-bg-color: #434B5C;\n",
              "      --hover-fill-color: #FFFFFF;\n",
              "      --disabled-bg-color: #3B4455;\n",
              "      --disabled-fill-color: #666;\n",
              "  }\n",
              "\n",
              "  .colab-df-quickchart {\n",
              "    background-color: var(--bg-color);\n",
              "    border: none;\n",
              "    border-radius: 50%;\n",
              "    cursor: pointer;\n",
              "    display: none;\n",
              "    fill: var(--fill-color);\n",
              "    height: 32px;\n",
              "    padding: 0;\n",
              "    width: 32px;\n",
              "  }\n",
              "\n",
              "  .colab-df-quickchart:hover {\n",
              "    background-color: var(--hover-bg-color);\n",
              "    box-shadow: 0 1px 2px rgba(60, 64, 67, 0.3), 0 1px 3px 1px rgba(60, 64, 67, 0.15);\n",
              "    fill: var(--button-hover-fill-color);\n",
              "  }\n",
              "\n",
              "  .colab-df-quickchart-complete:disabled,\n",
              "  .colab-df-quickchart-complete:disabled:hover {\n",
              "    background-color: var(--disabled-bg-color);\n",
              "    fill: var(--disabled-fill-color);\n",
              "    box-shadow: none;\n",
              "  }\n",
              "\n",
              "  .colab-df-spinner {\n",
              "    border: 2px solid var(--fill-color);\n",
              "    border-color: transparent;\n",
              "    border-bottom-color: var(--fill-color);\n",
              "    animation:\n",
              "      spin 1s steps(1) infinite;\n",
              "  }\n",
              "\n",
              "  @keyframes spin {\n",
              "    0% {\n",
              "      border-color: transparent;\n",
              "      border-bottom-color: var(--fill-color);\n",
              "      border-left-color: var(--fill-color);\n",
              "    }\n",
              "    20% {\n",
              "      border-color: transparent;\n",
              "      border-left-color: var(--fill-color);\n",
              "      border-top-color: var(--fill-color);\n",
              "    }\n",
              "    30% {\n",
              "      border-color: transparent;\n",
              "      border-left-color: var(--fill-color);\n",
              "      border-top-color: var(--fill-color);\n",
              "      border-right-color: var(--fill-color);\n",
              "    }\n",
              "    40% {\n",
              "      border-color: transparent;\n",
              "      border-right-color: var(--fill-color);\n",
              "      border-top-color: var(--fill-color);\n",
              "    }\n",
              "    60% {\n",
              "      border-color: transparent;\n",
              "      border-right-color: var(--fill-color);\n",
              "    }\n",
              "    80% {\n",
              "      border-color: transparent;\n",
              "      border-right-color: var(--fill-color);\n",
              "      border-bottom-color: var(--fill-color);\n",
              "    }\n",
              "    90% {\n",
              "      border-color: transparent;\n",
              "      border-bottom-color: var(--fill-color);\n",
              "    }\n",
              "  }\n",
              "</style>\n",
              "\n",
              "  <script>\n",
              "    async function quickchart(key) {\n",
              "      const quickchartButtonEl =\n",
              "        document.querySelector('#' + key + ' button');\n",
              "      quickchartButtonEl.disabled = true;  // To prevent multiple clicks.\n",
              "      quickchartButtonEl.classList.add('colab-df-spinner');\n",
              "      try {\n",
              "        const charts = await google.colab.kernel.invokeFunction(\n",
              "            'suggestCharts', [key], {});\n",
              "      } catch (error) {\n",
              "        console.error('Error during call to suggestCharts:', error);\n",
              "      }\n",
              "      quickchartButtonEl.classList.remove('colab-df-spinner');\n",
              "      quickchartButtonEl.classList.add('colab-df-quickchart-complete');\n",
              "    }\n",
              "    (() => {\n",
              "      let quickchartButtonEl =\n",
              "        document.querySelector('#df-652c955a-3b91-4595-894a-89f674404a15 button');\n",
              "      quickchartButtonEl.style.display =\n",
              "        google.colab.kernel.accessAllowed ? 'block' : 'none';\n",
              "    })();\n",
              "  </script>\n",
              "</div>\n",
              "\n",
              "    </div>\n",
              "  </div>\n"
            ],
            "text/plain": [
              "   Unnamed: 0  age          job  marital          education default housing  \\\n",
              "0           0   29   technician   single           basic.9y      no     yes   \n",
              "1           1   31       admin.   single  university.degree      no      no   \n",
              "2           2   27  blue-collar   single           basic.9y      no     yes   \n",
              "3           3   30     services  married            unknown      no      no   \n",
              "4           4   32   technician  married  university.degree      no      no   \n",
              "\n",
              "  loan    contact month day_of_week  duration  campaign  pdays  previous  \\\n",
              "0   no   cellular   nov         wed     648.0         1    999         0   \n",
              "1   no   cellular   aug         wed     295.0         1    999         0   \n",
              "2   no  telephone   jul         mon     236.0         2    999         0   \n",
              "3   no  telephone   may         wed     143.0         3    999         0   \n",
              "4   no   cellular   aug         thu     155.0         1    999         0   \n",
              "\n",
              "      poutcome   y  \n",
              "0  nonexistent  no  \n",
              "1  nonexistent  no  \n",
              "2  nonexistent  no  \n",
              "3  nonexistent  no  \n",
              "4  nonexistent  no  "
            ]
          },
          "execution_count": 4,
          "metadata": {},
          "output_type": "execute_result"
        }
      ],
      "source": [
        "import pandas as pd\n",
        "\n",
        "file_path = '/content/drive/MyDrive/data_1C.csv'\n",
        "df = pd.read_csv(file_path)\n",
        "\n",
        "df.head()"
      ]
    },
    {
      "cell_type": "code",
      "execution_count": 29,
      "metadata": {
        "colab": {
          "base_uri": "https://localhost:8080/",
          "height": 363
        },
        "id": "8z8XdIkwVQZ3",
        "outputId": "b1daa0a0-ecea-42a0-c723-81d44b49c9ce"
      },
      "outputs": [
        {
          "data": {
            "application/vnd.google.colaboratory.intrinsic+json": {
              "summary": "{\n  \"name\": \"df\",\n  \"rows\": 10,\n  \"fields\": [\n    {\n      \"column\": \"Unnamed: 0\",\n      \"properties\": {\n        \"dtype\": \"number\",\n        \"std\": 3,\n        \"min\": 8227,\n        \"max\": 8236,\n        \"num_unique_values\": 10,\n        \"samples\": [\n          8235,\n          8228,\n          8232\n        ],\n        \"semantic_type\": \"\",\n        \"description\": \"\"\n      }\n    },\n    {\n      \"column\": \"age\",\n      \"properties\": {\n        \"dtype\": \"number\",\n        \"std\": 14,\n        \"min\": 29,\n        \"max\": 76,\n        \"num_unique_values\": 9,\n        \"samples\": [\n          50,\n          36,\n          33\n        ],\n        \"semantic_type\": \"\",\n        \"description\": \"\"\n      }\n    },\n    {\n      \"column\": \"job\",\n      \"properties\": {\n        \"dtype\": \"category\",\n        \"num_unique_values\": 4,\n        \"samples\": [\n          \"technician\",\n          \"blue-collar\",\n          \"retired\"\n        ],\n        \"semantic_type\": \"\",\n        \"description\": \"\"\n      }\n    },\n    {\n      \"column\": \"marital\",\n      \"properties\": {\n        \"dtype\": \"category\",\n        \"num_unique_values\": 3,\n        \"samples\": [\n          \"married\",\n          \"single\",\n          \"divorced\"\n        ],\n        \"semantic_type\": \"\",\n        \"description\": \"\"\n      }\n    },\n    {\n      \"column\": \"education\",\n      \"properties\": {\n        \"dtype\": \"category\",\n        \"num_unique_values\": 4,\n        \"samples\": [\n          \"high.school\",\n          \"basic.4y\",\n          \"university.degree\"\n        ],\n        \"semantic_type\": \"\",\n        \"description\": \"\"\n      }\n    },\n    {\n      \"column\": \"default\",\n      \"properties\": {\n        \"dtype\": \"category\",\n        \"num_unique_values\": 2,\n        \"samples\": [\n          \"unknown\",\n          \"no\"\n        ],\n        \"semantic_type\": \"\",\n        \"description\": \"\"\n      }\n    },\n    {\n      \"column\": \"housing\",\n      \"properties\": {\n        \"dtype\": \"category\",\n        \"num_unique_values\": 2,\n        \"samples\": [\n          \"no\",\n          \"yes\"\n        ],\n        \"semantic_type\": \"\",\n        \"description\": \"\"\n      }\n    },\n    {\n      \"column\": \"loan\",\n      \"properties\": {\n        \"dtype\": \"category\",\n        \"num_unique_values\": 2,\n        \"samples\": [\n          \"no\",\n          \"yes\"\n        ],\n        \"semantic_type\": \"\",\n        \"description\": \"\"\n      }\n    },\n    {\n      \"column\": \"contact\",\n      \"properties\": {\n        \"dtype\": \"category\",\n        \"num_unique_values\": 2,\n        \"samples\": [\n          \"telephone\",\n          \"cellular\"\n        ],\n        \"semantic_type\": \"\",\n        \"description\": \"\"\n      }\n    },\n    {\n      \"column\": \"month\",\n      \"properties\": {\n        \"dtype\": \"string\",\n        \"num_unique_values\": 5,\n        \"samples\": [\n          \"aug\",\n          \"may\"\n        ],\n        \"semantic_type\": \"\",\n        \"description\": \"\"\n      }\n    },\n    {\n      \"column\": \"day_of_week\",\n      \"properties\": {\n        \"dtype\": \"string\",\n        \"num_unique_values\": 5,\n        \"samples\": [\n          \"wed\",\n          \"fri\"\n        ],\n        \"semantic_type\": \"\",\n        \"description\": \"\"\n      }\n    },\n    {\n      \"column\": \"duration\",\n      \"properties\": {\n        \"dtype\": \"number\",\n        \"std\": 261.5472126489679,\n        \"min\": 53.0,\n        \"max\": 793.0,\n        \"num_unique_values\": 10,\n        \"samples\": [\n          189.0,\n          53.0\n        ],\n        \"semantic_type\": \"\",\n        \"description\": \"\"\n      }\n    },\n    {\n      \"column\": \"campaign\",\n      \"properties\": {\n        \"dtype\": \"number\",\n        \"std\": 1,\n        \"min\": 1,\n        \"max\": 5,\n        \"num_unique_values\": 4,\n        \"samples\": [\n          3,\n          5\n        ],\n        \"semantic_type\": \"\",\n        \"description\": \"\"\n      }\n    },\n    {\n      \"column\": \"pdays\",\n      \"properties\": {\n        \"dtype\": \"number\",\n        \"std\": 314,\n        \"min\": 4,\n        \"max\": 999,\n        \"num_unique_values\": 2,\n        \"samples\": [\n          999,\n          4\n        ],\n        \"semantic_type\": \"\",\n        \"description\": \"\"\n      }\n    },\n    {\n      \"column\": \"previous\",\n      \"properties\": {\n        \"dtype\": \"number\",\n        \"std\": 0,\n        \"min\": 0,\n        \"max\": 2,\n        \"num_unique_values\": 3,\n        \"samples\": [\n          2,\n          0\n        ],\n        \"semantic_type\": \"\",\n        \"description\": \"\"\n      }\n    },\n    {\n      \"column\": \"poutcome\",\n      \"properties\": {\n        \"dtype\": \"category\",\n        \"num_unique_values\": 3,\n        \"samples\": [\n          \"success\",\n          \"nonexistent\"\n        ],\n        \"semantic_type\": \"\",\n        \"description\": \"\"\n      }\n    },\n    {\n      \"column\": \"y\",\n      \"properties\": {\n        \"dtype\": \"category\",\n        \"num_unique_values\": 2,\n        \"samples\": [\n          \"no\",\n          \"yes\"\n        ],\n        \"semantic_type\": \"\",\n        \"description\": \"\"\n      }\n    }\n  ]\n}",
              "type": "dataframe"
            },
            "text/html": [
              "\n",
              "  <div id=\"df-210dbf06-7499-4d6a-aa05-4942b67e33dd\" class=\"colab-df-container\">\n",
              "    <div>\n",
              "<style scoped>\n",
              "    .dataframe tbody tr th:only-of-type {\n",
              "        vertical-align: middle;\n",
              "    }\n",
              "\n",
              "    .dataframe tbody tr th {\n",
              "        vertical-align: top;\n",
              "    }\n",
              "\n",
              "    .dataframe thead th {\n",
              "        text-align: right;\n",
              "    }\n",
              "</style>\n",
              "<table border=\"1\" class=\"dataframe\">\n",
              "  <thead>\n",
              "    <tr style=\"text-align: right;\">\n",
              "      <th></th>\n",
              "      <th>Unnamed: 0</th>\n",
              "      <th>age</th>\n",
              "      <th>job</th>\n",
              "      <th>marital</th>\n",
              "      <th>education</th>\n",
              "      <th>default</th>\n",
              "      <th>housing</th>\n",
              "      <th>loan</th>\n",
              "      <th>contact</th>\n",
              "      <th>month</th>\n",
              "      <th>day_of_week</th>\n",
              "      <th>duration</th>\n",
              "      <th>campaign</th>\n",
              "      <th>pdays</th>\n",
              "      <th>previous</th>\n",
              "      <th>poutcome</th>\n",
              "      <th>y</th>\n",
              "    </tr>\n",
              "  </thead>\n",
              "  <tbody>\n",
              "    <tr>\n",
              "      <th>8227</th>\n",
              "      <td>8227</td>\n",
              "      <td>76</td>\n",
              "      <td>retired</td>\n",
              "      <td>married</td>\n",
              "      <td>university.degree</td>\n",
              "      <td>no</td>\n",
              "      <td>yes</td>\n",
              "      <td>yes</td>\n",
              "      <td>cellular</td>\n",
              "      <td>dec</td>\n",
              "      <td>thu</td>\n",
              "      <td>330.0</td>\n",
              "      <td>2</td>\n",
              "      <td>4</td>\n",
              "      <td>2</td>\n",
              "      <td>success</td>\n",
              "      <td>yes</td>\n",
              "    </tr>\n",
              "    <tr>\n",
              "      <th>8228</th>\n",
              "      <td>8228</td>\n",
              "      <td>36</td>\n",
              "      <td>technician</td>\n",
              "      <td>married</td>\n",
              "      <td>high.school</td>\n",
              "      <td>no</td>\n",
              "      <td>yes</td>\n",
              "      <td>no</td>\n",
              "      <td>cellular</td>\n",
              "      <td>aug</td>\n",
              "      <td>wed</td>\n",
              "      <td>53.0</td>\n",
              "      <td>3</td>\n",
              "      <td>999</td>\n",
              "      <td>0</td>\n",
              "      <td>nonexistent</td>\n",
              "      <td>no</td>\n",
              "    </tr>\n",
              "    <tr>\n",
              "      <th>8229</th>\n",
              "      <td>8229</td>\n",
              "      <td>35</td>\n",
              "      <td>admin.</td>\n",
              "      <td>single</td>\n",
              "      <td>university.degree</td>\n",
              "      <td>no</td>\n",
              "      <td>yes</td>\n",
              "      <td>no</td>\n",
              "      <td>cellular</td>\n",
              "      <td>apr</td>\n",
              "      <td>wed</td>\n",
              "      <td>58.0</td>\n",
              "      <td>1</td>\n",
              "      <td>999</td>\n",
              "      <td>0</td>\n",
              "      <td>nonexistent</td>\n",
              "      <td>no</td>\n",
              "    </tr>\n",
              "    <tr>\n",
              "      <th>8230</th>\n",
              "      <td>8230</td>\n",
              "      <td>58</td>\n",
              "      <td>blue-collar</td>\n",
              "      <td>married</td>\n",
              "      <td>basic.9y</td>\n",
              "      <td>no</td>\n",
              "      <td>yes</td>\n",
              "      <td>no</td>\n",
              "      <td>cellular</td>\n",
              "      <td>nov</td>\n",
              "      <td>tue</td>\n",
              "      <td>180.0</td>\n",
              "      <td>1</td>\n",
              "      <td>999</td>\n",
              "      <td>1</td>\n",
              "      <td>failure</td>\n",
              "      <td>no</td>\n",
              "    </tr>\n",
              "    <tr>\n",
              "      <th>8231</th>\n",
              "      <td>8231</td>\n",
              "      <td>46</td>\n",
              "      <td>technician</td>\n",
              "      <td>divorced</td>\n",
              "      <td>basic.4y</td>\n",
              "      <td>unknown</td>\n",
              "      <td>yes</td>\n",
              "      <td>no</td>\n",
              "      <td>cellular</td>\n",
              "      <td>nov</td>\n",
              "      <td>tue</td>\n",
              "      <td>262.0</td>\n",
              "      <td>2</td>\n",
              "      <td>999</td>\n",
              "      <td>0</td>\n",
              "      <td>nonexistent</td>\n",
              "      <td>no</td>\n",
              "    </tr>\n",
              "    <tr>\n",
              "      <th>8232</th>\n",
              "      <td>8232</td>\n",
              "      <td>33</td>\n",
              "      <td>admin.</td>\n",
              "      <td>single</td>\n",
              "      <td>university.degree</td>\n",
              "      <td>no</td>\n",
              "      <td>no</td>\n",
              "      <td>no</td>\n",
              "      <td>telephone</td>\n",
              "      <td>may</td>\n",
              "      <td>tue</td>\n",
              "      <td>147.0</td>\n",
              "      <td>1</td>\n",
              "      <td>999</td>\n",
              "      <td>0</td>\n",
              "      <td>nonexistent</td>\n",
              "      <td>no</td>\n",
              "    </tr>\n",
              "    <tr>\n",
              "      <th>8233</th>\n",
              "      <td>8233</td>\n",
              "      <td>39</td>\n",
              "      <td>blue-collar</td>\n",
              "      <td>married</td>\n",
              "      <td>basic.9y</td>\n",
              "      <td>no</td>\n",
              "      <td>no</td>\n",
              "      <td>no</td>\n",
              "      <td>telephone</td>\n",
              "      <td>may</td>\n",
              "      <td>mon</td>\n",
              "      <td>793.0</td>\n",
              "      <td>5</td>\n",
              "      <td>999</td>\n",
              "      <td>0</td>\n",
              "      <td>nonexistent</td>\n",
              "      <td>no</td>\n",
              "    </tr>\n",
              "    <tr>\n",
              "      <th>8234</th>\n",
              "      <td>8234</td>\n",
              "      <td>36</td>\n",
              "      <td>admin.</td>\n",
              "      <td>married</td>\n",
              "      <td>university.degree</td>\n",
              "      <td>no</td>\n",
              "      <td>yes</td>\n",
              "      <td>no</td>\n",
              "      <td>telephone</td>\n",
              "      <td>may</td>\n",
              "      <td>mon</td>\n",
              "      <td>120.0</td>\n",
              "      <td>2</td>\n",
              "      <td>999</td>\n",
              "      <td>0</td>\n",
              "      <td>nonexistent</td>\n",
              "      <td>no</td>\n",
              "    </tr>\n",
              "    <tr>\n",
              "      <th>8235</th>\n",
              "      <td>8235</td>\n",
              "      <td>50</td>\n",
              "      <td>admin.</td>\n",
              "      <td>married</td>\n",
              "      <td>university.degree</td>\n",
              "      <td>no</td>\n",
              "      <td>yes</td>\n",
              "      <td>yes</td>\n",
              "      <td>cellular</td>\n",
              "      <td>nov</td>\n",
              "      <td>fri</td>\n",
              "      <td>189.0</td>\n",
              "      <td>2</td>\n",
              "      <td>999</td>\n",
              "      <td>1</td>\n",
              "      <td>failure</td>\n",
              "      <td>no</td>\n",
              "    </tr>\n",
              "    <tr>\n",
              "      <th>8236</th>\n",
              "      <td>8236</td>\n",
              "      <td>29</td>\n",
              "      <td>admin.</td>\n",
              "      <td>single</td>\n",
              "      <td>university.degree</td>\n",
              "      <td>no</td>\n",
              "      <td>yes</td>\n",
              "      <td>no</td>\n",
              "      <td>telephone</td>\n",
              "      <td>may</td>\n",
              "      <td>wed</td>\n",
              "      <td>713.0</td>\n",
              "      <td>1</td>\n",
              "      <td>999</td>\n",
              "      <td>0</td>\n",
              "      <td>nonexistent</td>\n",
              "      <td>no</td>\n",
              "    </tr>\n",
              "  </tbody>\n",
              "</table>\n",
              "</div>\n",
              "    <div class=\"colab-df-buttons\">\n",
              "\n",
              "  <div class=\"colab-df-container\">\n",
              "    <button class=\"colab-df-convert\" onclick=\"convertToInteractive('df-210dbf06-7499-4d6a-aa05-4942b67e33dd')\"\n",
              "            title=\"Convert this dataframe to an interactive table.\"\n",
              "            style=\"display:none;\">\n",
              "\n",
              "  <svg xmlns=\"http://www.w3.org/2000/svg\" height=\"24px\" viewBox=\"0 -960 960 960\">\n",
              "    <path d=\"M120-120v-720h720v720H120Zm60-500h600v-160H180v160Zm220 220h160v-160H400v160Zm0 220h160v-160H400v160ZM180-400h160v-160H180v160Zm440 0h160v-160H620v160ZM180-180h160v-160H180v160Zm440 0h160v-160H620v160Z\"/>\n",
              "  </svg>\n",
              "    </button>\n",
              "\n",
              "  <style>\n",
              "    .colab-df-container {\n",
              "      display:flex;\n",
              "      gap: 12px;\n",
              "    }\n",
              "\n",
              "    .colab-df-convert {\n",
              "      background-color: #E8F0FE;\n",
              "      border: none;\n",
              "      border-radius: 50%;\n",
              "      cursor: pointer;\n",
              "      display: none;\n",
              "      fill: #1967D2;\n",
              "      height: 32px;\n",
              "      padding: 0 0 0 0;\n",
              "      width: 32px;\n",
              "    }\n",
              "\n",
              "    .colab-df-convert:hover {\n",
              "      background-color: #E2EBFA;\n",
              "      box-shadow: 0px 1px 2px rgba(60, 64, 67, 0.3), 0px 1px 3px 1px rgba(60, 64, 67, 0.15);\n",
              "      fill: #174EA6;\n",
              "    }\n",
              "\n",
              "    .colab-df-buttons div {\n",
              "      margin-bottom: 4px;\n",
              "    }\n",
              "\n",
              "    [theme=dark] .colab-df-convert {\n",
              "      background-color: #3B4455;\n",
              "      fill: #D2E3FC;\n",
              "    }\n",
              "\n",
              "    [theme=dark] .colab-df-convert:hover {\n",
              "      background-color: #434B5C;\n",
              "      box-shadow: 0px 1px 3px 1px rgba(0, 0, 0, 0.15);\n",
              "      filter: drop-shadow(0px 1px 2px rgba(0, 0, 0, 0.3));\n",
              "      fill: #FFFFFF;\n",
              "    }\n",
              "  </style>\n",
              "\n",
              "    <script>\n",
              "      const buttonEl =\n",
              "        document.querySelector('#df-210dbf06-7499-4d6a-aa05-4942b67e33dd button.colab-df-convert');\n",
              "      buttonEl.style.display =\n",
              "        google.colab.kernel.accessAllowed ? 'block' : 'none';\n",
              "\n",
              "      async function convertToInteractive(key) {\n",
              "        const element = document.querySelector('#df-210dbf06-7499-4d6a-aa05-4942b67e33dd');\n",
              "        const dataTable =\n",
              "          await google.colab.kernel.invokeFunction('convertToInteractive',\n",
              "                                                    [key], {});\n",
              "        if (!dataTable) return;\n",
              "\n",
              "        const docLinkHtml = 'Like what you see? Visit the ' +\n",
              "          '<a target=\"_blank\" href=https://colab.research.google.com/notebooks/data_table.ipynb>data table notebook</a>'\n",
              "          + ' to learn more about interactive tables.';\n",
              "        element.innerHTML = '';\n",
              "        dataTable['output_type'] = 'display_data';\n",
              "        await google.colab.output.renderOutput(dataTable, element);\n",
              "        const docLink = document.createElement('div');\n",
              "        docLink.innerHTML = docLinkHtml;\n",
              "        element.appendChild(docLink);\n",
              "      }\n",
              "    </script>\n",
              "  </div>\n",
              "\n",
              "\n",
              "<div id=\"df-f80ab2bf-2cc6-4372-b25c-9a8038243e2f\">\n",
              "  <button class=\"colab-df-quickchart\" onclick=\"quickchart('df-f80ab2bf-2cc6-4372-b25c-9a8038243e2f')\"\n",
              "            title=\"Suggest charts\"\n",
              "            style=\"display:none;\">\n",
              "\n",
              "<svg xmlns=\"http://www.w3.org/2000/svg\" height=\"24px\"viewBox=\"0 0 24 24\"\n",
              "     width=\"24px\">\n",
              "    <g>\n",
              "        <path d=\"M19 3H5c-1.1 0-2 .9-2 2v14c0 1.1.9 2 2 2h14c1.1 0 2-.9 2-2V5c0-1.1-.9-2-2-2zM9 17H7v-7h2v7zm4 0h-2V7h2v10zm4 0h-2v-4h2v4z\"/>\n",
              "    </g>\n",
              "</svg>\n",
              "  </button>\n",
              "\n",
              "<style>\n",
              "  .colab-df-quickchart {\n",
              "      --bg-color: #E8F0FE;\n",
              "      --fill-color: #1967D2;\n",
              "      --hover-bg-color: #E2EBFA;\n",
              "      --hover-fill-color: #174EA6;\n",
              "      --disabled-fill-color: #AAA;\n",
              "      --disabled-bg-color: #DDD;\n",
              "  }\n",
              "\n",
              "  [theme=dark] .colab-df-quickchart {\n",
              "      --bg-color: #3B4455;\n",
              "      --fill-color: #D2E3FC;\n",
              "      --hover-bg-color: #434B5C;\n",
              "      --hover-fill-color: #FFFFFF;\n",
              "      --disabled-bg-color: #3B4455;\n",
              "      --disabled-fill-color: #666;\n",
              "  }\n",
              "\n",
              "  .colab-df-quickchart {\n",
              "    background-color: var(--bg-color);\n",
              "    border: none;\n",
              "    border-radius: 50%;\n",
              "    cursor: pointer;\n",
              "    display: none;\n",
              "    fill: var(--fill-color);\n",
              "    height: 32px;\n",
              "    padding: 0;\n",
              "    width: 32px;\n",
              "  }\n",
              "\n",
              "  .colab-df-quickchart:hover {\n",
              "    background-color: var(--hover-bg-color);\n",
              "    box-shadow: 0 1px 2px rgba(60, 64, 67, 0.3), 0 1px 3px 1px rgba(60, 64, 67, 0.15);\n",
              "    fill: var(--button-hover-fill-color);\n",
              "  }\n",
              "\n",
              "  .colab-df-quickchart-complete:disabled,\n",
              "  .colab-df-quickchart-complete:disabled:hover {\n",
              "    background-color: var(--disabled-bg-color);\n",
              "    fill: var(--disabled-fill-color);\n",
              "    box-shadow: none;\n",
              "  }\n",
              "\n",
              "  .colab-df-spinner {\n",
              "    border: 2px solid var(--fill-color);\n",
              "    border-color: transparent;\n",
              "    border-bottom-color: var(--fill-color);\n",
              "    animation:\n",
              "      spin 1s steps(1) infinite;\n",
              "  }\n",
              "\n",
              "  @keyframes spin {\n",
              "    0% {\n",
              "      border-color: transparent;\n",
              "      border-bottom-color: var(--fill-color);\n",
              "      border-left-color: var(--fill-color);\n",
              "    }\n",
              "    20% {\n",
              "      border-color: transparent;\n",
              "      border-left-color: var(--fill-color);\n",
              "      border-top-color: var(--fill-color);\n",
              "    }\n",
              "    30% {\n",
              "      border-color: transparent;\n",
              "      border-left-color: var(--fill-color);\n",
              "      border-top-color: var(--fill-color);\n",
              "      border-right-color: var(--fill-color);\n",
              "    }\n",
              "    40% {\n",
              "      border-color: transparent;\n",
              "      border-right-color: var(--fill-color);\n",
              "      border-top-color: var(--fill-color);\n",
              "    }\n",
              "    60% {\n",
              "      border-color: transparent;\n",
              "      border-right-color: var(--fill-color);\n",
              "    }\n",
              "    80% {\n",
              "      border-color: transparent;\n",
              "      border-right-color: var(--fill-color);\n",
              "      border-bottom-color: var(--fill-color);\n",
              "    }\n",
              "    90% {\n",
              "      border-color: transparent;\n",
              "      border-bottom-color: var(--fill-color);\n",
              "    }\n",
              "  }\n",
              "</style>\n",
              "\n",
              "  <script>\n",
              "    async function quickchart(key) {\n",
              "      const quickchartButtonEl =\n",
              "        document.querySelector('#' + key + ' button');\n",
              "      quickchartButtonEl.disabled = true;  // To prevent multiple clicks.\n",
              "      quickchartButtonEl.classList.add('colab-df-spinner');\n",
              "      try {\n",
              "        const charts = await google.colab.kernel.invokeFunction(\n",
              "            'suggestCharts', [key], {});\n",
              "      } catch (error) {\n",
              "        console.error('Error during call to suggestCharts:', error);\n",
              "      }\n",
              "      quickchartButtonEl.classList.remove('colab-df-spinner');\n",
              "      quickchartButtonEl.classList.add('colab-df-quickchart-complete');\n",
              "    }\n",
              "    (() => {\n",
              "      let quickchartButtonEl =\n",
              "        document.querySelector('#df-f80ab2bf-2cc6-4372-b25c-9a8038243e2f button');\n",
              "      quickchartButtonEl.style.display =\n",
              "        google.colab.kernel.accessAllowed ? 'block' : 'none';\n",
              "    })();\n",
              "  </script>\n",
              "</div>\n",
              "\n",
              "    </div>\n",
              "  </div>\n"
            ],
            "text/plain": [
              "      Unnamed: 0  age          job   marital          education  default  \\\n",
              "8227        8227   76      retired   married  university.degree       no   \n",
              "8228        8228   36   technician   married        high.school       no   \n",
              "8229        8229   35       admin.    single  university.degree       no   \n",
              "8230        8230   58  blue-collar   married           basic.9y       no   \n",
              "8231        8231   46   technician  divorced           basic.4y  unknown   \n",
              "8232        8232   33       admin.    single  university.degree       no   \n",
              "8233        8233   39  blue-collar   married           basic.9y       no   \n",
              "8234        8234   36       admin.   married  university.degree       no   \n",
              "8235        8235   50       admin.   married  university.degree       no   \n",
              "8236        8236   29       admin.    single  university.degree       no   \n",
              "\n",
              "     housing loan    contact month day_of_week  duration  campaign  pdays  \\\n",
              "8227     yes  yes   cellular   dec         thu     330.0         2      4   \n",
              "8228     yes   no   cellular   aug         wed      53.0         3    999   \n",
              "8229     yes   no   cellular   apr         wed      58.0         1    999   \n",
              "8230     yes   no   cellular   nov         tue     180.0         1    999   \n",
              "8231     yes   no   cellular   nov         tue     262.0         2    999   \n",
              "8232      no   no  telephone   may         tue     147.0         1    999   \n",
              "8233      no   no  telephone   may         mon     793.0         5    999   \n",
              "8234     yes   no  telephone   may         mon     120.0         2    999   \n",
              "8235     yes  yes   cellular   nov         fri     189.0         2    999   \n",
              "8236     yes   no  telephone   may         wed     713.0         1    999   \n",
              "\n",
              "      previous     poutcome    y  \n",
              "8227         2      success  yes  \n",
              "8228         0  nonexistent   no  \n",
              "8229         0  nonexistent   no  \n",
              "8230         1      failure   no  \n",
              "8231         0  nonexistent   no  \n",
              "8232         0  nonexistent   no  \n",
              "8233         0  nonexistent   no  \n",
              "8234         0  nonexistent   no  \n",
              "8235         1      failure   no  \n",
              "8236         0  nonexistent   no  "
            ]
          },
          "execution_count": 29,
          "metadata": {},
          "output_type": "execute_result"
        }
      ],
      "source": [
        "df.tail(10)"
      ]
    },
    {
      "cell_type": "code",
      "execution_count": 28,
      "metadata": {
        "colab": {
          "base_uri": "https://localhost:8080/",
          "height": 300
        },
        "id": "12tNSOsWSxAX",
        "outputId": "476505bc-d706-4128-e79f-93fc58a79827"
      },
      "outputs": [
        {
          "data": {
            "application/vnd.google.colaboratory.intrinsic+json": {
              "summary": "{\n  \"name\": \"df\",\n  \"rows\": 8,\n  \"fields\": [\n    {\n      \"column\": \"Unnamed: 0\",\n      \"properties\": {\n        \"dtype\": \"number\",\n        \"std\": 2968.435689358873,\n        \"min\": 0.0,\n        \"max\": 8237.0,\n        \"num_unique_values\": 7,\n        \"samples\": [\n          8237.0,\n          4118.0,\n          6177.0\n        ],\n        \"semantic_type\": \"\",\n        \"description\": \"\"\n      }\n    },\n    {\n      \"column\": \"age\",\n      \"properties\": {\n        \"dtype\": \"number\",\n        \"std\": 2898.0798934794257,\n        \"min\": 10.331078353623417,\n        \"max\": 8237.0,\n        \"num_unique_values\": 8,\n        \"samples\": [\n          40.00048561369431,\n          38.0,\n          8237.0\n        ],\n        \"semantic_type\": \"\",\n        \"description\": \"\"\n      }\n    },\n    {\n      \"column\": \"duration\",\n      \"properties\": {\n        \"dtype\": \"number\",\n        \"std\": 2896.4145510518483,\n        \"min\": 0.0,\n        \"max\": 8222.0,\n        \"num_unique_values\": 8,\n        \"samples\": [\n          260.1893699829725,\n          183.0,\n          8222.0\n        ],\n        \"semantic_type\": \"\",\n        \"description\": \"\"\n      }\n    },\n    {\n      \"column\": \"campaign\",\n      \"properties\": {\n        \"dtype\": \"number\",\n        \"std\": 2909.4657268123888,\n        \"min\": 1.0,\n        \"max\": 8237.0,\n        \"num_unique_values\": 7,\n        \"samples\": [\n          8237.0,\n          2.555299259439116,\n          3.0\n        ],\n        \"semantic_type\": \"\",\n        \"description\": \"\"\n      }\n    },\n    {\n      \"column\": \"pdays\",\n      \"properties\": {\n        \"dtype\": \"number\",\n        \"std\": 2683.6724622497322,\n        \"min\": 0.0,\n        \"max\": 8237.0,\n        \"num_unique_values\": 5,\n        \"samples\": [\n          962.3524341386427,\n          999.0,\n          187.22192651323144\n        ],\n        \"semantic_type\": \"\",\n        \"description\": \"\"\n      }\n    },\n    {\n      \"column\": \"previous\",\n      \"properties\": {\n        \"dtype\": \"number\",\n        \"std\": 2911.8839164478363,\n        \"min\": 0.0,\n        \"max\": 8237.0,\n        \"num_unique_values\": 5,\n        \"samples\": [\n          0.1723928614786937,\n          6.0,\n          0.48197250035669004\n        ],\n        \"semantic_type\": \"\",\n        \"description\": \"\"\n      }\n    }\n  ]\n}",
              "type": "dataframe"
            },
            "text/html": [
              "\n",
              "  <div id=\"df-c1d273d8-105d-45d0-990f-4bac8e238724\" class=\"colab-df-container\">\n",
              "    <div>\n",
              "<style scoped>\n",
              "    .dataframe tbody tr th:only-of-type {\n",
              "        vertical-align: middle;\n",
              "    }\n",
              "\n",
              "    .dataframe tbody tr th {\n",
              "        vertical-align: top;\n",
              "    }\n",
              "\n",
              "    .dataframe thead th {\n",
              "        text-align: right;\n",
              "    }\n",
              "</style>\n",
              "<table border=\"1\" class=\"dataframe\">\n",
              "  <thead>\n",
              "    <tr style=\"text-align: right;\">\n",
              "      <th></th>\n",
              "      <th>Unnamed: 0</th>\n",
              "      <th>age</th>\n",
              "      <th>duration</th>\n",
              "      <th>campaign</th>\n",
              "      <th>pdays</th>\n",
              "      <th>previous</th>\n",
              "    </tr>\n",
              "  </thead>\n",
              "  <tbody>\n",
              "    <tr>\n",
              "      <th>count</th>\n",
              "      <td>8237.000000</td>\n",
              "      <td>8237.000000</td>\n",
              "      <td>8222.000000</td>\n",
              "      <td>8237.000000</td>\n",
              "      <td>8237.000000</td>\n",
              "      <td>8237.000000</td>\n",
              "    </tr>\n",
              "    <tr>\n",
              "      <th>mean</th>\n",
              "      <td>4118.000000</td>\n",
              "      <td>40.000486</td>\n",
              "      <td>260.189370</td>\n",
              "      <td>2.555299</td>\n",
              "      <td>962.352434</td>\n",
              "      <td>0.172393</td>\n",
              "    </tr>\n",
              "    <tr>\n",
              "      <th>std</th>\n",
              "      <td>2377.961417</td>\n",
              "      <td>10.331078</td>\n",
              "      <td>254.942835</td>\n",
              "      <td>2.663180</td>\n",
              "      <td>187.221927</td>\n",
              "      <td>0.481973</td>\n",
              "    </tr>\n",
              "    <tr>\n",
              "      <th>min</th>\n",
              "      <td>0.000000</td>\n",
              "      <td>17.000000</td>\n",
              "      <td>0.000000</td>\n",
              "      <td>1.000000</td>\n",
              "      <td>0.000000</td>\n",
              "      <td>0.000000</td>\n",
              "    </tr>\n",
              "    <tr>\n",
              "      <th>25%</th>\n",
              "      <td>2059.000000</td>\n",
              "      <td>32.000000</td>\n",
              "      <td>103.000000</td>\n",
              "      <td>1.000000</td>\n",
              "      <td>999.000000</td>\n",
              "      <td>0.000000</td>\n",
              "    </tr>\n",
              "    <tr>\n",
              "      <th>50%</th>\n",
              "      <td>4118.000000</td>\n",
              "      <td>38.000000</td>\n",
              "      <td>183.000000</td>\n",
              "      <td>2.000000</td>\n",
              "      <td>999.000000</td>\n",
              "      <td>0.000000</td>\n",
              "    </tr>\n",
              "    <tr>\n",
              "      <th>75%</th>\n",
              "      <td>6177.000000</td>\n",
              "      <td>47.000000</td>\n",
              "      <td>324.000000</td>\n",
              "      <td>3.000000</td>\n",
              "      <td>999.000000</td>\n",
              "      <td>0.000000</td>\n",
              "    </tr>\n",
              "    <tr>\n",
              "      <th>max</th>\n",
              "      <td>8236.000000</td>\n",
              "      <td>98.000000</td>\n",
              "      <td>3284.000000</td>\n",
              "      <td>43.000000</td>\n",
              "      <td>999.000000</td>\n",
              "      <td>6.000000</td>\n",
              "    </tr>\n",
              "  </tbody>\n",
              "</table>\n",
              "</div>\n",
              "    <div class=\"colab-df-buttons\">\n",
              "\n",
              "  <div class=\"colab-df-container\">\n",
              "    <button class=\"colab-df-convert\" onclick=\"convertToInteractive('df-c1d273d8-105d-45d0-990f-4bac8e238724')\"\n",
              "            title=\"Convert this dataframe to an interactive table.\"\n",
              "            style=\"display:none;\">\n",
              "\n",
              "  <svg xmlns=\"http://www.w3.org/2000/svg\" height=\"24px\" viewBox=\"0 -960 960 960\">\n",
              "    <path d=\"M120-120v-720h720v720H120Zm60-500h600v-160H180v160Zm220 220h160v-160H400v160Zm0 220h160v-160H400v160ZM180-400h160v-160H180v160Zm440 0h160v-160H620v160ZM180-180h160v-160H180v160Zm440 0h160v-160H620v160Z\"/>\n",
              "  </svg>\n",
              "    </button>\n",
              "\n",
              "  <style>\n",
              "    .colab-df-container {\n",
              "      display:flex;\n",
              "      gap: 12px;\n",
              "    }\n",
              "\n",
              "    .colab-df-convert {\n",
              "      background-color: #E8F0FE;\n",
              "      border: none;\n",
              "      border-radius: 50%;\n",
              "      cursor: pointer;\n",
              "      display: none;\n",
              "      fill: #1967D2;\n",
              "      height: 32px;\n",
              "      padding: 0 0 0 0;\n",
              "      width: 32px;\n",
              "    }\n",
              "\n",
              "    .colab-df-convert:hover {\n",
              "      background-color: #E2EBFA;\n",
              "      box-shadow: 0px 1px 2px rgba(60, 64, 67, 0.3), 0px 1px 3px 1px rgba(60, 64, 67, 0.15);\n",
              "      fill: #174EA6;\n",
              "    }\n",
              "\n",
              "    .colab-df-buttons div {\n",
              "      margin-bottom: 4px;\n",
              "    }\n",
              "\n",
              "    [theme=dark] .colab-df-convert {\n",
              "      background-color: #3B4455;\n",
              "      fill: #D2E3FC;\n",
              "    }\n",
              "\n",
              "    [theme=dark] .colab-df-convert:hover {\n",
              "      background-color: #434B5C;\n",
              "      box-shadow: 0px 1px 3px 1px rgba(0, 0, 0, 0.15);\n",
              "      filter: drop-shadow(0px 1px 2px rgba(0, 0, 0, 0.3));\n",
              "      fill: #FFFFFF;\n",
              "    }\n",
              "  </style>\n",
              "\n",
              "    <script>\n",
              "      const buttonEl =\n",
              "        document.querySelector('#df-c1d273d8-105d-45d0-990f-4bac8e238724 button.colab-df-convert');\n",
              "      buttonEl.style.display =\n",
              "        google.colab.kernel.accessAllowed ? 'block' : 'none';\n",
              "\n",
              "      async function convertToInteractive(key) {\n",
              "        const element = document.querySelector('#df-c1d273d8-105d-45d0-990f-4bac8e238724');\n",
              "        const dataTable =\n",
              "          await google.colab.kernel.invokeFunction('convertToInteractive',\n",
              "                                                    [key], {});\n",
              "        if (!dataTable) return;\n",
              "\n",
              "        const docLinkHtml = 'Like what you see? Visit the ' +\n",
              "          '<a target=\"_blank\" href=https://colab.research.google.com/notebooks/data_table.ipynb>data table notebook</a>'\n",
              "          + ' to learn more about interactive tables.';\n",
              "        element.innerHTML = '';\n",
              "        dataTable['output_type'] = 'display_data';\n",
              "        await google.colab.output.renderOutput(dataTable, element);\n",
              "        const docLink = document.createElement('div');\n",
              "        docLink.innerHTML = docLinkHtml;\n",
              "        element.appendChild(docLink);\n",
              "      }\n",
              "    </script>\n",
              "  </div>\n",
              "\n",
              "\n",
              "<div id=\"df-324cd2c5-480c-4db1-aa63-f9d47077e2af\">\n",
              "  <button class=\"colab-df-quickchart\" onclick=\"quickchart('df-324cd2c5-480c-4db1-aa63-f9d47077e2af')\"\n",
              "            title=\"Suggest charts\"\n",
              "            style=\"display:none;\">\n",
              "\n",
              "<svg xmlns=\"http://www.w3.org/2000/svg\" height=\"24px\"viewBox=\"0 0 24 24\"\n",
              "     width=\"24px\">\n",
              "    <g>\n",
              "        <path d=\"M19 3H5c-1.1 0-2 .9-2 2v14c0 1.1.9 2 2 2h14c1.1 0 2-.9 2-2V5c0-1.1-.9-2-2-2zM9 17H7v-7h2v7zm4 0h-2V7h2v10zm4 0h-2v-4h2v4z\"/>\n",
              "    </g>\n",
              "</svg>\n",
              "  </button>\n",
              "\n",
              "<style>\n",
              "  .colab-df-quickchart {\n",
              "      --bg-color: #E8F0FE;\n",
              "      --fill-color: #1967D2;\n",
              "      --hover-bg-color: #E2EBFA;\n",
              "      --hover-fill-color: #174EA6;\n",
              "      --disabled-fill-color: #AAA;\n",
              "      --disabled-bg-color: #DDD;\n",
              "  }\n",
              "\n",
              "  [theme=dark] .colab-df-quickchart {\n",
              "      --bg-color: #3B4455;\n",
              "      --fill-color: #D2E3FC;\n",
              "      --hover-bg-color: #434B5C;\n",
              "      --hover-fill-color: #FFFFFF;\n",
              "      --disabled-bg-color: #3B4455;\n",
              "      --disabled-fill-color: #666;\n",
              "  }\n",
              "\n",
              "  .colab-df-quickchart {\n",
              "    background-color: var(--bg-color);\n",
              "    border: none;\n",
              "    border-radius: 50%;\n",
              "    cursor: pointer;\n",
              "    display: none;\n",
              "    fill: var(--fill-color);\n",
              "    height: 32px;\n",
              "    padding: 0;\n",
              "    width: 32px;\n",
              "  }\n",
              "\n",
              "  .colab-df-quickchart:hover {\n",
              "    background-color: var(--hover-bg-color);\n",
              "    box-shadow: 0 1px 2px rgba(60, 64, 67, 0.3), 0 1px 3px 1px rgba(60, 64, 67, 0.15);\n",
              "    fill: var(--button-hover-fill-color);\n",
              "  }\n",
              "\n",
              "  .colab-df-quickchart-complete:disabled,\n",
              "  .colab-df-quickchart-complete:disabled:hover {\n",
              "    background-color: var(--disabled-bg-color);\n",
              "    fill: var(--disabled-fill-color);\n",
              "    box-shadow: none;\n",
              "  }\n",
              "\n",
              "  .colab-df-spinner {\n",
              "    border: 2px solid var(--fill-color);\n",
              "    border-color: transparent;\n",
              "    border-bottom-color: var(--fill-color);\n",
              "    animation:\n",
              "      spin 1s steps(1) infinite;\n",
              "  }\n",
              "\n",
              "  @keyframes spin {\n",
              "    0% {\n",
              "      border-color: transparent;\n",
              "      border-bottom-color: var(--fill-color);\n",
              "      border-left-color: var(--fill-color);\n",
              "    }\n",
              "    20% {\n",
              "      border-color: transparent;\n",
              "      border-left-color: var(--fill-color);\n",
              "      border-top-color: var(--fill-color);\n",
              "    }\n",
              "    30% {\n",
              "      border-color: transparent;\n",
              "      border-left-color: var(--fill-color);\n",
              "      border-top-color: var(--fill-color);\n",
              "      border-right-color: var(--fill-color);\n",
              "    }\n",
              "    40% {\n",
              "      border-color: transparent;\n",
              "      border-right-color: var(--fill-color);\n",
              "      border-top-color: var(--fill-color);\n",
              "    }\n",
              "    60% {\n",
              "      border-color: transparent;\n",
              "      border-right-color: var(--fill-color);\n",
              "    }\n",
              "    80% {\n",
              "      border-color: transparent;\n",
              "      border-right-color: var(--fill-color);\n",
              "      border-bottom-color: var(--fill-color);\n",
              "    }\n",
              "    90% {\n",
              "      border-color: transparent;\n",
              "      border-bottom-color: var(--fill-color);\n",
              "    }\n",
              "  }\n",
              "</style>\n",
              "\n",
              "  <script>\n",
              "    async function quickchart(key) {\n",
              "      const quickchartButtonEl =\n",
              "        document.querySelector('#' + key + ' button');\n",
              "      quickchartButtonEl.disabled = true;  // To prevent multiple clicks.\n",
              "      quickchartButtonEl.classList.add('colab-df-spinner');\n",
              "      try {\n",
              "        const charts = await google.colab.kernel.invokeFunction(\n",
              "            'suggestCharts', [key], {});\n",
              "      } catch (error) {\n",
              "        console.error('Error during call to suggestCharts:', error);\n",
              "      }\n",
              "      quickchartButtonEl.classList.remove('colab-df-spinner');\n",
              "      quickchartButtonEl.classList.add('colab-df-quickchart-complete');\n",
              "    }\n",
              "    (() => {\n",
              "      let quickchartButtonEl =\n",
              "        document.querySelector('#df-324cd2c5-480c-4db1-aa63-f9d47077e2af button');\n",
              "      quickchartButtonEl.style.display =\n",
              "        google.colab.kernel.accessAllowed ? 'block' : 'none';\n",
              "    })();\n",
              "  </script>\n",
              "</div>\n",
              "\n",
              "    </div>\n",
              "  </div>\n"
            ],
            "text/plain": [
              "        Unnamed: 0          age     duration     campaign        pdays  \\\n",
              "count  8237.000000  8237.000000  8222.000000  8237.000000  8237.000000   \n",
              "mean   4118.000000    40.000486   260.189370     2.555299   962.352434   \n",
              "std    2377.961417    10.331078   254.942835     2.663180   187.221927   \n",
              "min       0.000000    17.000000     0.000000     1.000000     0.000000   \n",
              "25%    2059.000000    32.000000   103.000000     1.000000   999.000000   \n",
              "50%    4118.000000    38.000000   183.000000     2.000000   999.000000   \n",
              "75%    6177.000000    47.000000   324.000000     3.000000   999.000000   \n",
              "max    8236.000000    98.000000  3284.000000    43.000000   999.000000   \n",
              "\n",
              "          previous  \n",
              "count  8237.000000  \n",
              "mean      0.172393  \n",
              "std       0.481973  \n",
              "min       0.000000  \n",
              "25%       0.000000  \n",
              "50%       0.000000  \n",
              "75%       0.000000  \n",
              "max       6.000000  "
            ]
          },
          "execution_count": 28,
          "metadata": {},
          "output_type": "execute_result"
        }
      ],
      "source": [
        "df.describe()"
      ]
    },
    {
      "cell_type": "markdown",
      "metadata": {
        "id": "XG8Hyudu0wG3"
      },
      "source": [
        "## Data Visualization"
      ]
    },
    {
      "cell_type": "markdown",
      "metadata": {
        "id": "P5YLESpR1FaW"
      },
      "source": [
        "### Distribution of Target Variable"
      ]
    },
    {
      "cell_type": "code",
      "execution_count": 5,
      "metadata": {
        "colab": {
          "base_uri": "https://localhost:8080/",
          "height": 449
        },
        "id": "VB_VaSwaxJDJ",
        "outputId": "d09966a8-b998-47f9-8227-d352df2ae351"
      },
      "outputs": [
        {
          "data": {
            "image/png": "[encoded data removed]",
            "text/plain": [
              "<Figure size 640x480 with 1 Axes>"
            ]
          },
          "metadata": {},
          "output_type": "display_data"
        }
      ],
      "source": [
        "sns.countplot(x='y', data=df)\n",
        "plt.show()"
      ]
    },
    {
      "cell_type": "markdown",
      "metadata": {
        "id": "n50OK67O1H0F"
      },
      "source": [
        "### Numerical Data"
      ]
    },
    {
      "cell_type": "code",
      "execution_count": 6,
      "metadata": {
        "colab": {
          "base_uri": "https://localhost:8080/",
          "height": 853
        },
        "id": "fjBaxxBV09Sn",
        "outputId": "5383162c-ae84-4ed4-91f9-fdd0fb7c1e1c"
      },
      "outputs": [
        {
          "data": {
            "image/png": "[encoded data removed]",
            "text/plain": [
              "<Figure size 1500x1000 with 6 Axes>"
            ]
          },
          "metadata": {},
          "output_type": "display_data"
        }
      ],
      "source": [
        "df.hist(bins=20, figsize=(15, 10))\n",
        "plt.show()"
      ]
    },
    {
      "cell_type": "markdown",
      "metadata": {
        "id": "cc0TqDlF5XE2"
      },
      "source": [
        "### Categorical Data"
      ]
    },
    {
      "cell_type": "code",
      "execution_count": 7,
      "metadata": {
        "colab": {
          "base_uri": "https://localhost:8080/",
          "height": 1000
        },
        "id": "ACMDlcnp1Jvc",
        "outputId": "820780a9-9961-464d-9428-e6e7fe39f38a"
      },
      "outputs": [
        {
          "data": {
            "image/png": "[encoded data removed]",
            "text/plain": [
              "<Figure size 640x480 with 1 Axes>"
            ]
          },
          "metadata": {},
          "output_type": "display_data"
        },
        {
          "data": {
            "image/png": "[encoded data removed]",
            "text/plain": [
              "<Figure size 640x480 with 1 Axes>"
            ]
          },
          "metadata": {},
          "output_type": "display_data"
        },
        {
          "data": {
            "image/png": "[encoded data removed]",
            "text/plain": [
              "<Figure size 640x480 with 1 Axes>"
            ]
          },
          "metadata": {},
          "output_type": "display_data"
        },
        {
          "data": {
            "image/png": "[encoded data removed]",
            "text/plain": [
              "<Figure size 640x480 with 1 Axes>"
            ]
          },
          "metadata": {},
          "output_type": "display_data"
        },
        {
          "data": {
            "image/png": "[encoded data removed]",
            "text/plain": [
              "<Figure size 640x480 with 1 Axes>"
            ]
          },
          "metadata": {},
          "output_type": "display_data"
        },
        {
          "data": {
            "image/png": "[encoded data removed]",
            "text/plain": [
              "<Figure size 640x480 with 1 Axes>"
            ]
          },
          "metadata": {},
          "output_type": "display_data"
        },
        {
          "data": {
            "image/png": "[encoded data removed]",
            "text/plain": [
              "<Figure size 640x480 with 1 Axes>"
            ]
          },
          "metadata": {},
          "output_type": "display_data"
        },
        {
          "data": {
            "image/png": "[encoded data removed]",
            "text/plain": [
              "<Figure size 640x480 with 1 Axes>"
            ]
          },
          "metadata": {},
          "output_type": "display_data"
        },
        {
          "data": {
            "image/png": "[encoded data removed]",
            "text/plain": [
              "<Figure size 640x480 with 1 Axes>"
            ]
          },
          "metadata": {},
          "output_type": "display_data"
        },
        {
          "data": {
            "image/png": "[encoded data removed]",
            "text/plain": [
              "<Figure size 640x480 with 1 Axes>"
            ]
          },
          "metadata": {},
          "output_type": "display_data"
        },
        {
          "data": {
            "image/png": "[encoded data removed]",
            "text/plain": [
              "<Figure size 640x480 with 1 Axes>"
            ]
          },
          "metadata": {},
          "output_type": "display_data"
        }
      ],
      "source": [
        "for column in df.select_dtypes(include=['object']).columns:\n",
        "    sns.countplot(x=column, hue='y', data=df)\n",
        "    plt.show()"
      ]
    },
    {
      "cell_type": "markdown",
      "metadata": {
        "id": "TlzfTj8C5YxT"
      },
      "source": [
        "## Data Splitting"
      ]
    },
    {
      "cell_type": "markdown",
      "metadata": {
        "id": "mGul44ZFEGVs"
      },
      "source": [
        "We begin by splitting the data to ensure that no information leaks into the test set later"
      ]
    },
    {
      "cell_type": "code",
      "execution_count": 8,
      "metadata": {
        "id": "FWOUhInW34XY"
      },
      "outputs": [],
      "source": [
        "X = df.drop(['y', 'Unnamed: 0'], axis=1)\n",
        "y = df['y']\n",
        "\n",
        "X_train, X_test, y_train, y_test = train_test_split(X, y, test_size=0.2, random_state=42, stratify=y)"
      ]
    },
    {
      "cell_type": "code",
      "execution_count": 9,
      "metadata": {
        "colab": {
          "base_uri": "https://localhost:8080/",
          "height": 607
        },
        "id": "-DpOCuEA-FeG",
        "outputId": "c1108945-1c0f-4a89-9b0e-3e25460ed0c0"
      },
      "outputs": [
        {
          "data": {
            "image/png": "[encoded data removed]",
            "text/plain": [
              "<Figure size 1200x600 with 2 Axes>"
            ]
          },
          "metadata": {},
          "output_type": "display_data"
        }
      ],
      "source": [
        "train_distribution = y_train.value_counts()\n",
        "test_distribution = y_test.value_counts()\n",
        "train_percentage = (train_distribution / train_distribution.sum()) * 100\n",
        "test_percentage = (test_distribution / test_distribution.sum()) * 100\n",
        "\n",
        "fig, ax = plt.subplots(1, 2, figsize=(12, 6))\n",
        "\n",
        "bars = ax[0].bar(train_distribution.index, train_distribution.values, color='b', alpha=0.7)\n",
        "ax[0].set_title('Class Distribution on Train Set')\n",
        "ax[0].set_xlabel('Class')\n",
        "ax[0].set_ylabel('Count')\n",
        "for bar, percentage in zip(bars, train_percentage):\n",
        "    height = bar.get_height()\n",
        "    ax[0].text(bar.get_x() + bar.get_width() / 2, height, f'{percentage:.2f}%', ha='center', va='bottom')\n",
        "\n",
        "bars = ax[1].bar(test_distribution.index, test_distribution.values, color='r', alpha=0.7)\n",
        "ax[1].set_title('Class Distribution on Test Set')\n",
        "ax[1].set_xlabel('Class')\n",
        "ax[1].set_ylabel('Count')\n",
        "for bar, percentage in zip(bars, test_percentage):\n",
        "    height = bar.get_height()\n",
        "    ax[1].text(bar.get_x() + bar.get_width() / 2, height, f'{percentage:.2f}%', ha='center', va='bottom')\n",
        "\n",
        "plt.tight_layout()\n",
        "plt.show()"
      ]
    },
    {
      "cell_type": "markdown",
      "metadata": {
        "id": "urn_2QPh73gZ"
      },
      "source": [
        "## Data Preprocessing"
      ]
    },
    {
      "cell_type": "markdown",
      "metadata": {
        "id": "7DUwpGuJ799e"
      },
      "source": [
        "### Missing Values"
      ]
    },
    {
      "cell_type": "code",
      "execution_count": 10,
      "metadata": {
        "colab": {
          "base_uri": "https://localhost:8080/"
        },
        "id": "l-vulZx17s1F",
        "outputId": "74fe56a3-c0c0-4b00-9cb4-e3bc5a235ded"
      },
      "outputs": [
        {
          "name": "stdout",
          "output_type": "stream",
          "text": [
            "Missing values in X_train:\n",
            "age             0\n",
            "job             7\n",
            "marital         0\n",
            "education       0\n",
            "default         0\n",
            "housing         0\n",
            "loan            0\n",
            "contact         0\n",
            "month           0\n",
            "day_of_week     0\n",
            "duration       14\n",
            "campaign        0\n",
            "pdays           0\n",
            "previous        0\n",
            "poutcome        0\n",
            "dtype: int64\n",
            "\n",
            "\n",
            "Missing values in X_test:\n",
            "age            0\n",
            "job            3\n",
            "marital        0\n",
            "education      0\n",
            "default        0\n",
            "housing        0\n",
            "loan           0\n",
            "contact        0\n",
            "month          0\n",
            "day_of_week    0\n",
            "duration       1\n",
            "campaign       0\n",
            "pdays          0\n",
            "previous       0\n",
            "poutcome       0\n",
            "dtype: int64\n",
            "\n",
            "\n",
            "Missing values in y_train:\n",
            "0\n",
            "\n",
            "\n",
            "Missing values in y_test:\n",
            "0\n"
          ]
        }
      ],
      "source": [
        "missing_values_X_train = X_train.isnull().sum()\n",
        "print(\"Missing values in X_train:\")\n",
        "print(missing_values_X_train)\n",
        "print(\"\\n\")\n",
        "\n",
        "missing_values_X_test = X_test.isnull().sum()\n",
        "print(\"Missing values in X_test:\")\n",
        "print(missing_values_X_test)\n",
        "print(\"\\n\")\n",
        "\n",
        "missing_values_y_train = y_train.isnull().sum()\n",
        "print(\"Missing values in y_train:\")\n",
        "print(missing_values_y_train)\n",
        "print(\"\\n\")\n",
        "\n",
        "missing_values_y_test = y_test.isnull().sum()\n",
        "print(\"Missing values in y_test:\")\n",
        "print(missing_values_y_test)"
      ]
    },
    {
      "cell_type": "markdown",
      "metadata": {
        "id": "lTsRPR0vERa0"
      },
      "source": [
        "We can see that there are missing values in `job` and `duration` columns"
      ]
    },
    {
      "cell_type": "markdown",
      "metadata": {
        "id": "egIUUosTM6sI"
      },
      "source": [
        "### Imputation Functions"
      ]
    },
    {
      "cell_type": "markdown",
      "metadata": {
        "id": "2J-k0GtGEqCB"
      },
      "source": [
        "Next, we create a function to detect outliers and another to impute missing values. If outliers are detected, we impute using the median; if no outliers are found, we use the mean. For non-numeric features, we impute with the mode"
      ]
    },
    {
      "cell_type": "code",
      "execution_count": 11,
      "metadata": {
        "id": "pHMMGH8s8KMN"
      },
      "outputs": [],
      "source": [
        "def detect_outliers(data):\n",
        "    Q1 = data.quantile(0.25)\n",
        "    Q3 = data.quantile(0.75)\n",
        "    IQR = Q3 - Q1\n",
        "    outliers = ((data < (Q1 - 1.5 * IQR)) | (data > (Q3 + 1.5 * IQR)))\n",
        "    return outliers\n",
        "\n",
        "def impute_missing_values(data, outliers):\n",
        "    for column in data.columns:\n",
        "        if column in numeric_features:\n",
        "            if outliers[column].sum() > 0:\n",
        "                median_value = data[column].median()\n",
        "                data[column].fillna(median_value, inplace=True)\n",
        "            else:\n",
        "                mean_value = data[column].mean()\n",
        "                data[column].fillna(mean_value, inplace=True)\n",
        "        else:\n",
        "            most_frequent_value = data[column].mode()[0]\n",
        "            data[column].fillna(most_frequent_value, inplace=True)\n",
        "    return data"
      ]
    },
    {
      "cell_type": "code",
      "execution_count": 12,
      "metadata": {
        "colab": {
          "base_uri": "https://localhost:8080/"
        },
        "id": "C7x8xLN6NOpA",
        "outputId": "d9235c80-1cab-46e6-ee42-c9889ca58968"
      },
      "outputs": [
        {
          "name": "stdout",
          "output_type": "stream",
          "text": [
            "Outliers in X_train:\n",
            "age          65\n",
            "duration    474\n",
            "campaign    384\n",
            "pdays       243\n",
            "previous    923\n",
            "dtype: int64\n",
            "Outliers in X_test:\n",
            "age          19\n",
            "duration    111\n",
            "campaign    105\n",
            "pdays        61\n",
            "previous    227\n",
            "dtype: int64\n"
          ]
        }
      ],
      "source": [
        "numeric_features = ['age', 'duration', 'campaign', 'pdays', 'previous']\n",
        "outliers_X_train = X_train[numeric_features].apply(detect_outliers)\n",
        "print(\"Outliers in X_train:\")\n",
        "print(outliers_X_train.sum())\n",
        "\n",
        "outliers_X_test = X_test[numeric_features].apply(detect_outliers)\n",
        "print(\"Outliers in X_test:\")\n",
        "print(outliers_X_test.sum())"
      ]
    },
    {
      "cell_type": "code",
      "execution_count": 13,
      "metadata": {
        "colab": {
          "base_uri": "https://localhost:8080/"
        },
        "id": "M9Vaoa8ANRXO",
        "outputId": "75c87dde-3915-4131-f139-380b02c7f910"
      },
      "outputs": [
        {
          "name": "stdout",
          "output_type": "stream",
          "text": [
            "Missing values in X_train after imputation:\n",
            "age            0\n",
            "job            0\n",
            "marital        0\n",
            "education      0\n",
            "default        0\n",
            "housing        0\n",
            "loan           0\n",
            "contact        0\n",
            "month          0\n",
            "day_of_week    0\n",
            "duration       0\n",
            "campaign       0\n",
            "pdays          0\n",
            "previous       0\n",
            "poutcome       0\n",
            "dtype: int64\n",
            "\n",
            "\n",
            "Missing values in X_test after imputation:\n",
            "age            0\n",
            "job            0\n",
            "marital        0\n",
            "education      0\n",
            "default        0\n",
            "housing        0\n",
            "loan           0\n",
            "contact        0\n",
            "month          0\n",
            "day_of_week    0\n",
            "duration       0\n",
            "campaign       0\n",
            "pdays          0\n",
            "previous       0\n",
            "poutcome       0\n",
            "dtype: int64\n"
          ]
        }
      ],
      "source": [
        "X_train = impute_missing_values(X_train, outliers_X_train)\n",
        "X_test = impute_missing_values(X_test, outliers_X_train)\n",
        "\n",
        "print(\"Missing values in X_train after imputation:\")\n",
        "print(X_train.isnull().sum())\n",
        "print(\"\\n\")\n",
        "print(\"Missing values in X_test after imputation:\")\n",
        "print(X_test.isnull().sum())"
      ]
    },
    {
      "cell_type": "markdown",
      "metadata": {
        "id": "gA2k8nL3FCmK"
      },
      "source": [
        "After the imputation, we can see that there are no more missing values in all of the columns"
      ]
    },
    {
      "cell_type": "markdown",
      "metadata": {
        "id": "mkKpvChqTLu8"
      },
      "source": [
        "### Encoding"
      ]
    },
    {
      "cell_type": "markdown",
      "metadata": {
        "id": "ATxnf1XIeste"
      },
      "source": [
        "Now we see the value counts first"
      ]
    },
    {
      "cell_type": "code",
      "execution_count": 14,
      "metadata": {
        "colab": {
          "base_uri": "https://localhost:8080/"
        },
        "id": "0-unppgceu_8",
        "outputId": "f71cfc1d-2425-4713-df15-953700cf3963"
      },
      "outputs": [
        {
          "name": "stdout",
          "output_type": "stream",
          "text": [
            "Value counts for job:\n",
            "job\n",
            "admin.           2046\n",
            "blue-collar      1860\n",
            "technician       1375\n",
            "services          777\n",
            "management        625\n",
            "retired           339\n",
            "self-employed     293\n",
            "entrepreneur      279\n",
            "unemployed        201\n",
            "housemaid         188\n",
            "student           181\n",
            "unknown            63\n",
            "Name: count, dtype: int64\n",
            "\n",
            "\n",
            "Value counts for marital:\n",
            "marital\n",
            "married     4943\n",
            "single      2345\n",
            "divorced     936\n",
            "unknown       13\n",
            "Name: count, dtype: int64\n",
            "\n",
            "\n",
            "Value counts for education:\n",
            "education\n",
            "university.degree      2456\n",
            "high.school            1902\n",
            "basic.9y               1157\n",
            "professional.course    1070\n",
            "basic.4y                862\n",
            "basic.6y                456\n",
            "unknown                 328\n",
            "illiterate                6\n",
            "Name: count, dtype: int64\n",
            "\n",
            "\n",
            "Value counts for default:\n",
            "default\n",
            "no         6533\n",
            "unknown    1701\n",
            "yes           3\n",
            "Name: count, dtype: int64\n",
            "\n",
            "\n",
            "Value counts for housing:\n",
            "housing\n",
            "yes        4308\n",
            "no         3730\n",
            "unknown     199\n",
            "Name: count, dtype: int64\n",
            "\n",
            "\n",
            "Value counts for loan:\n",
            "loan\n",
            "no         6890\n",
            "yes        1148\n",
            "unknown     199\n",
            "Name: count, dtype: int64\n",
            "\n",
            "\n",
            "Value counts for contact:\n",
            "contact\n",
            "cellular     5253\n",
            "telephone    2984\n",
            "Name: count, dtype: int64\n",
            "\n",
            "\n",
            "Value counts for month:\n",
            "month\n",
            "may    2754\n",
            "jul    1439\n",
            "aug    1200\n",
            "jun    1051\n",
            "nov     857\n",
            "apr     519\n",
            "oct     143\n",
            "sep     119\n",
            "mar     112\n",
            "dec      43\n",
            "Name: count, dtype: int64\n",
            "\n",
            "\n",
            "Value counts for day_of_week:\n",
            "day_of_week\n",
            "mon    1703\n",
            "wed    1668\n",
            "thu    1636\n",
            "tue    1623\n",
            "fri    1607\n",
            "Name: count, dtype: int64\n",
            "\n",
            "\n",
            "Value counts for poutcome:\n",
            "poutcome\n",
            "nonexistent    7087\n",
            "failure         876\n",
            "success         274\n",
            "Name: count, dtype: int64\n",
            "\n",
            "\n"
          ]
        }
      ],
      "source": [
        "categorical_cols = ['job', 'marital', 'education', 'default', 'housing', 'loan', 'contact', 'month', 'day_of_week', 'poutcome']\n",
        "\n",
        "\n",
        "for col in categorical_cols:\n",
        "    print(f\"Value counts for {col}:\")\n",
        "    print(df[col].value_counts())\n",
        "    print(\"\\n\")"
      ]
    },
    {
      "cell_type": "markdown",
      "metadata": {
        "id": "-4-pdX4ahTN1"
      },
      "source": [
        "The value counts reveal that the data starts from March, with January and February absent. Additionally, the 'day of week' feature only includes weekdays from Monday to Friday. Finally, we export the pickle file to the specified directory"
      ]
    },
    {
      "cell_type": "code",
      "execution_count": 15,
      "metadata": {
        "id": "CkuLfg7BTmxb"
      },
      "outputs": [],
      "source": [
        "month_mapping = {'jan': 1, 'feb': 2, 'mar': 3, 'apr': 4, 'may': 5, 'jun': 6, 'jul': 7, 'aug': 8, 'sep': 9, 'oct': 10, 'nov': 11, 'dec': 12}\n",
        "day_of_week_mapping = {'mon': 1, 'tue': 2, 'wed': 3, 'thu': 4, 'fri': 5}\n",
        "contact_mapping = {'cellular': 1, 'telephone': 0}\n",
        "response_mapping = {'yes': 1, 'no': 0}\n",
        "\n",
        "X_train['contact'] = X_train['contact'].map(contact_mapping)\n",
        "X_test['contact'] = X_test['contact'].map(contact_mapping)\n",
        "\n",
        "y_train = y_train.map(response_mapping)\n",
        "y_test = y_test.map(response_mapping)\n",
        "\n",
        "X_train['month'] = X_train['month'].map(month_mapping)\n",
        "X_test['month'] = X_test['month'].map(month_mapping)\n",
        "\n",
        "X_train['day_of_week'] = X_train['day_of_week'].map(day_of_week_mapping)\n",
        "X_test['day_of_week'] = X_test['day_of_week'].map(day_of_week_mapping)\n",
        "\n",
        "os.makedirs('pickles', exist_ok=True)\n",
        "\n",
        "def frequency_encode(data, feature):\n",
        "    freq_encoding = data.groupby(feature).size() / len(data)\n",
        "    return freq_encoding\n",
        "\n",
        "job_freq_encoding = frequency_encode(X_train, X_train['job'])\n",
        "with open('job_freq_encoding.pkl', 'wb') as f:\n",
        "    pickle.dump(job_freq_encoding, f)\n",
        "X_train['job'] = X_train['job'].map(job_freq_encoding)\n",
        "X_test['job'] = X_test['job'].map(job_freq_encoding)\n",
        "\n",
        "\n",
        "marital_freq_encoding = frequency_encode(X_train, X_train['marital'])\n",
        "with open('marital_freq_encoding.pkl', 'wb') as f:\n",
        "    pickle.dump(marital_freq_encoding, f)\n",
        "X_train['marital'] = X_train['marital'].map(marital_freq_encoding)\n",
        "X_test['marital'] = X_test['marital'].map(marital_freq_encoding)\n",
        "\n",
        "\n",
        "education_freq_encoding = frequency_encode(X_train, X_train['education'])\n",
        "with open('education_freq_encoding.pkl', 'wb') as f:\n",
        "    pickle.dump(education_freq_encoding, f)\n",
        "X_train['education'] = X_train['education'].map(education_freq_encoding)\n",
        "X_test['education'] = X_test['education'].map(education_freq_encoding)\n",
        "\n",
        "\n",
        "housing_freq_encoding = frequency_encode(X_train, X_train['housing'])\n",
        "with open('housing_freq_encoding.pkl', 'wb') as f:\n",
        "    pickle.dump(housing_freq_encoding, f)\n",
        "X_train['housing'] = X_train['housing'].map(housing_freq_encoding)\n",
        "X_test['housing'] = X_test['housing'].map(housing_freq_encoding)\n",
        "\n",
        "\n",
        "loan_freq_encoding = frequency_encode(X_train, X_train['loan'])\n",
        "with open('loan_freq_encoding.pkl', 'wb') as f:\n",
        "    pickle.dump(loan_freq_encoding, f)\n",
        "X_train['loan'] = X_train['loan'].map(loan_freq_encoding)\n",
        "X_test['loan'] = X_test['loan'].map(loan_freq_encoding)\n",
        "\n",
        "default_freq_encoding = frequency_encode(X_train, X_train['default'])\n",
        "with open('default_freq_encoding.pkl', 'wb') as f:\n",
        "    pickle.dump(default_freq_encoding, f)\n",
        "X_train['default'] = X_train['default'].map(default_freq_encoding)\n",
        "X_test['default'] = X_test['default'].map(default_freq_encoding)\n",
        "\n",
        "poutcome_freq_encoding = frequency_encode(X_train, X_train['poutcome'])\n",
        "with open('poutcome_freq_encoding.pkl', 'wb') as f:\n",
        "    pickle.dump(poutcome_freq_encoding, f)\n",
        "X_train['poutcome'] = X_train['poutcome'].map(poutcome_freq_encoding)\n",
        "X_test['poutcome'] = X_test['poutcome'].map(poutcome_freq_encoding)\n",
        "\n",
        "def save_to_pickle(data, filename):\n",
        "    with open(filename, 'wb') as f:\n",
        "        pickle.dump(data, f)\n",
        "\n",
        "save_to_pickle(month_mapping, 'month_mapping.pkl')\n",
        "save_to_pickle(day_of_week_mapping, 'day_of_week_mapping.pkl')\n",
        "save_to_pickle(contact_mapping, 'contact_mapping.pkl')\n",
        "save_to_pickle(response_mapping, 'response_mapping.pkl')"
      ]
    },
    {
      "cell_type": "code",
      "execution_count": 16,
      "metadata": {
        "colab": {
          "base_uri": "https://localhost:8080/"
        },
        "id": "MUIWXtRocEY1",
        "outputId": "c949d014-cd75-4316-997d-1ba6c9d0d2cc"
      },
      "outputs": [
        {
          "name": "stdout",
          "output_type": "stream",
          "text": [
            "\n",
            "X_train_encoded Head:\n",
            "      age       job   marital  education   default   housing      loan  \\\n",
            "3482   46  0.228259  0.601761   0.040219  0.211109  0.450599  0.837153   \n",
            "2966   38  0.023372  0.114737   0.228563  0.788587  0.526028  0.139475   \n",
            "6691   25  0.228259  0.601761   0.228563  0.211109  0.450599  0.837153   \n",
            "1083   64  0.023372  0.601761   0.107148  0.788587  0.450599  0.837153   \n",
            "7970   48  0.166034  0.601761   0.228563  0.211109  0.526028  0.837153   \n",
            "\n",
            "      contact  month  day_of_week  duration  campaign  pdays  previous  \\\n",
            "3482        0      5            1     209.0         2    999         0   \n",
            "2966        1      4            5     715.0         2    999         1   \n",
            "6691        1      7            2     169.0         4    999         0   \n",
            "1083        1     12            4     422.0         1      6         2   \n",
            "7970        1      7            2      97.0         4    999         0   \n",
            "\n",
            "      poutcome  \n",
            "3482  0.859918  \n",
            "2966  0.106086  \n",
            "6691  0.859918  \n",
            "1083  0.033996  \n",
            "7970  0.859918  \n",
            "\n",
            "X_test_encoded Head:\n",
            "      age       job   marital  education   default   housing      loan  \\\n",
            "1314   37  0.244954  0.282137   0.228563  0.788587  0.450599  0.837153   \n",
            "2814   25  0.166034  0.282137   0.295492  0.788587  0.526028  0.837153   \n",
            "6398   41  0.228259  0.601761   0.107148  0.788587  0.526028  0.837153   \n",
            "8136   28  0.093944  0.282137   0.228563  0.788587  0.526028  0.139475   \n",
            "225    41  0.076795  0.601761   0.040219  0.211109  0.526028  0.837153   \n",
            "\n",
            "      contact  month  day_of_week  duration  campaign  pdays  previous  \\\n",
            "1314        1      4            4     617.0         1    999         1   \n",
            "2814        0      5            1     174.0         1    999         0   \n",
            "6398        1      5            3     187.0         8    999         0   \n",
            "8136        0      5            5     372.0         3    999         0   \n",
            "225         0      5            3     149.0         2    999         0   \n",
            "\n",
            "      poutcome  \n",
            "1314  0.106086  \n",
            "2814  0.859918  \n",
            "6398  0.859918  \n",
            "8136  0.859918  \n",
            "225   0.859918  \n",
            "\n",
            "y_train Head:\n",
            "3482    0\n",
            "2966    1\n",
            "6691    0\n",
            "1083    1\n",
            "7970    0\n",
            "Name: y, dtype: int64\n",
            "\n",
            "y_test Head:\n",
            "1314    0\n",
            "2814    0\n",
            "6398    0\n",
            "8136    0\n",
            "225     0\n",
            "Name: y, dtype: int64\n"
          ]
        }
      ],
      "source": [
        "print(\"\\nX_train_encoded Head:\")\n",
        "print(X_train.head())\n",
        "print(\"\\nX_test_encoded Head:\")\n",
        "print(X_test.head())\n",
        "print(\"\\ny_train Head:\")\n",
        "print(y_train.head())\n",
        "print(\"\\ny_test Head:\")\n",
        "print(y_test.head())"
      ]
    },
    {
      "cell_type": "markdown",
      "metadata": {
        "id": "MH5CbZ8AQ4FF"
      },
      "source": [
        "### Scaling"
      ]
    },
    {
      "cell_type": "markdown",
      "metadata": {
        "id": "tp3HK1M9M1TC"
      },
      "source": [
        "\n",
        "First, we identify the outliers in each numeric feature to determine the most optimal scaling technique."
      ]
    },
    {
      "cell_type": "code",
      "execution_count": 17,
      "metadata": {
        "colab": {
          "base_uri": "https://localhost:8080/"
        },
        "id": "ui-ggfuvN-eG",
        "outputId": "1ea9818b-655a-409b-c875-0d60d9352975"
      },
      "outputs": [
        {
          "name": "stdout",
          "output_type": "stream",
          "text": [
            "Outliers in X_train:\n",
            "age          65\n",
            "duration    477\n",
            "campaign    384\n",
            "pdays       243\n",
            "previous    923\n",
            "dtype: int64\n",
            "Outliers in X_test:\n",
            "age          19\n",
            "duration    111\n",
            "campaign    105\n",
            "pdays        61\n",
            "previous    227\n",
            "dtype: int64\n"
          ]
        }
      ],
      "source": [
        "numeric_features = ['age', 'duration', 'campaign', 'pdays', 'previous']\n",
        "outliers_X_train = X_train[numeric_features].apply(detect_outliers)\n",
        "print(\"Outliers in X_train:\")\n",
        "print(outliers_X_train.sum())\n",
        "\n",
        "outliers_X_test = X_test[numeric_features].apply(detect_outliers)\n",
        "print(\"Outliers in X_test:\")\n",
        "print(outliers_X_test.sum())"
      ]
    },
    {
      "cell_type": "markdown",
      "metadata": {
        "id": "k0YcOdNBOrdt"
      },
      "source": [
        "Since all numeric features has outliers, employing the Robust Scaler is the optimal choice for scaling."
      ]
    },
    {
      "cell_type": "code",
      "execution_count": 18,
      "metadata": {
        "id": "PL7oq0vjM_cz"
      },
      "outputs": [],
      "source": [
        "scaler = RobustScaler()\n",
        "\n",
        "X_train[numeric_features] = scaler.fit_transform(X_train[numeric_features])\n",
        "X_test[numeric_features] = scaler.transform(X_test[numeric_features])"
      ]
    },
    {
      "cell_type": "markdown",
      "metadata": {
        "id": "CJS7iooMvZYu"
      },
      "source": [
        "#### Export Scaling into Pickle File"
      ]
    },
    {
      "cell_type": "code",
      "execution_count": 19,
      "metadata": {
        "colab": {
          "base_uri": "https://localhost:8080/"
        },
        "id": "aWh8wKWJvaAj",
        "outputId": "952784bf-3957-4471-9811-d9bd2471326c"
      },
      "outputs": [
        {
          "name": "stdout",
          "output_type": "stream",
          "text": [
            "Scaler has been saved to robust_scaler.pkl\n"
          ]
        }
      ],
      "source": [
        "with open('robust_scaler.pkl', 'wb') as f:\n",
        "    pickle.dump(scaler, f)\n",
        "\n",
        "print(\"Scaler has been saved to robust_scaler.pkl\")"
      ]
    },
    {
      "cell_type": "code",
      "execution_count": 20,
      "metadata": {
        "colab": {
          "base_uri": "https://localhost:8080/",
          "height": 206
        },
        "id": "m5n5eBnk3Ao4",
        "outputId": "dc3bfab8-a134-4e6d-bf2d-c5eae988aff0"
      },
      "outputs": [
        {
          "data": {
            "application/vnd.google.colaboratory.intrinsic+json": {
              "summary": "{\n  \"name\": \"X_train\",\n  \"rows\": 6589,\n  \"fields\": [\n    {\n      \"column\": \"age\",\n      \"properties\": {\n        \"dtype\": \"number\",\n        \"std\": 0.687750692737292,\n        \"min\": -1.4,\n        \"max\": 4.0,\n        \"num_unique_values\": 73,\n        \"samples\": [\n          0.6666666666666666,\n          -1.4,\n          0.9333333333333333\n        ],\n        \"semantic_type\": \"\",\n        \"description\": \"\"\n      }\n    },\n    {\n      \"column\": \"job\",\n      \"properties\": {\n        \"dtype\": \"number\",\n        \"std\": 0.08325760301485405,\n        \"min\": 0.007133100622249203,\n        \"max\": 0.24495371073000455,\n        \"num_unique_values\": 11,\n        \"samples\": [\n          0.07679465776293823,\n          0.2282592199119745,\n          0.022309910456821975\n        ],\n        \"semantic_type\": \"\",\n        \"description\": \"\"\n      }\n    },\n    {\n      \"column\": \"marital\",\n      \"properties\": {\n        \"dtype\": \"number\",\n        \"std\": 0.18698211767454895,\n        \"min\": 0.0013659128851115495,\n        \"max\": 0.6017605099408104,\n        \"num_unique_values\": 4,\n        \"samples\": [\n          0.11473668234937016,\n          0.0013659128851115495,\n          0.6017605099408104\n        ],\n        \"semantic_type\": \"\",\n        \"description\": \"\"\n      }\n    },\n    {\n      \"column\": \"education\",\n      \"properties\": {\n        \"dtype\": \"number\",\n        \"std\": 0.08409935825061418,\n        \"min\": 0.0009106085900743664,\n        \"max\": 0.29549248747913187,\n        \"num_unique_values\": 8,\n        \"samples\": [\n          0.22856275610866597,\n          0.29549248747913187,\n          0.04021854606161785\n        ],\n        \"semantic_type\": \"\",\n        \"description\": \"\"\n      }\n    },\n    {\n      \"column\": \"default\",\n      \"properties\": {\n        \"dtype\": \"number\",\n        \"std\": 0.23596024661573137,\n        \"min\": 0.00030353619669145547,\n        \"max\": 0.7885870390044013,\n        \"num_unique_values\": 3,\n        \"samples\": [\n          0.21110942479890726,\n          0.7885870390044013,\n          0.00030353619669145547\n        ],\n        \"semantic_type\": \"\",\n        \"description\": \"\"\n      }\n    },\n    {\n      \"column\": \"housing\",\n      \"properties\": {\n        \"dtype\": \"number\",\n        \"std\": 0.07986330869655783,\n        \"min\": 0.02337228714524207,\n        \"max\": 0.5260282288662923,\n        \"num_unique_values\": 3,\n        \"samples\": [\n          0.4505994839884656,\n          0.5260282288662923,\n          0.02337228714524207\n        ],\n        \"semantic_type\": \"\",\n        \"description\": \"\"\n      }\n    },\n    {\n      \"column\": \"loan\",\n      \"properties\": {\n        \"dtype\": \"number\",\n        \"std\": 0.2642846067919003,\n        \"min\": 0.02337228714524207,\n        \"max\": 0.8371528304750342,\n        \"num_unique_values\": 3,\n        \"samples\": [\n          0.8371528304750342,\n          0.13947488237972377,\n          0.02337228714524207\n        ],\n        \"semantic_type\": \"\",\n        \"description\": \"\"\n      }\n    },\n    {\n      \"column\": \"contact\",\n      \"properties\": {\n        \"dtype\": \"number\",\n        \"std\": 0,\n        \"min\": 0,\n        \"max\": 1,\n        \"num_unique_values\": 2,\n        \"samples\": [\n          1,\n          0\n        ],\n        \"semantic_type\": \"\",\n        \"description\": \"\"\n      }\n    },\n    {\n      \"column\": \"month\",\n      \"properties\": {\n        \"dtype\": \"number\",\n        \"std\": 2,\n        \"min\": 3,\n        \"max\": 12,\n        \"num_unique_values\": 10,\n        \"samples\": [\n          3,\n          4\n        ],\n        \"semantic_type\": \"\",\n        \"description\": \"\"\n      }\n    },\n    {\n      \"column\": \"day_of_week\",\n      \"properties\": {\n        \"dtype\": \"number\",\n        \"std\": 1,\n        \"min\": 1,\n        \"max\": 5,\n        \"num_unique_values\": 5,\n        \"samples\": [\n          5,\n          3\n        ],\n        \"semantic_type\": \"\",\n        \"description\": \"\"\n      }\n    },\n    {\n      \"column\": \"duration\",\n      \"properties\": {\n        \"dtype\": \"number\",\n        \"std\": 1.147883073503136,\n        \"min\": -0.8310502283105022,\n        \"max\": 13.223744292237443,\n        \"num_unique_values\": 950,\n        \"samples\": [\n          -0.4657534246575342,\n          1.2465753424657535\n        ],\n        \"semantic_type\": \"\",\n        \"description\": \"\"\n      }\n    },\n    {\n      \"column\": \"campaign\",\n      \"properties\": {\n        \"dtype\": \"number\",\n        \"std\": 1.3310877876038643,\n        \"min\": -0.5,\n        \"max\": 20.5,\n        \"num_unique_values\": 30,\n        \"samples\": [\n          9.0,\n          6.5\n        ],\n        \"semantic_type\": \"\",\n        \"description\": \"\"\n      }\n    },\n    {\n      \"column\": \"pdays\",\n      \"properties\": {\n        \"dtype\": \"number\",\n        \"std\": 187.14794374350228,\n        \"min\": -999.0,\n        \"max\": 0.0,\n        \"num_unique_values\": 21,\n        \"samples\": [\n          0.0,\n          -984.0\n        ],\n        \"semantic_type\": \"\",\n        \"description\": \"\"\n      }\n    },\n    {\n      \"column\": \"previous\",\n      \"properties\": {\n        \"dtype\": \"number\",\n        \"std\": 0.48140891107085176,\n        \"min\": 0.0,\n        \"max\": 6.0,\n        \"num_unique_values\": 7,\n        \"samples\": [\n          0.0,\n          1.0\n        ],\n        \"semantic_type\": \"\",\n        \"description\": \"\"\n      }\n    },\n    {\n      \"column\": \"poutcome\",\n      \"properties\": {\n        \"dtype\": \"number\",\n        \"std\": 0.26797629374160875,\n        \"min\": 0.03399605402944301,\n        \"max\": 0.8599180452268933,\n        \"num_unique_values\": 3,\n        \"samples\": [\n          0.8599180452268933,\n          0.10608590074366368\n        ],\n        \"semantic_type\": \"\",\n        \"description\": \"\"\n      }\n    }\n  ]\n}",
              "type": "dataframe",
              "variable_name": "X_train"
            },
            "text/html": [
              "\n",
              "  <div id=\"df-4229c44f-1fd8-426c-9d9d-bf7420d46dca\" class=\"colab-df-container\">\n",
              "    <div>\n",
              "<style scoped>\n",
              "    .dataframe tbody tr th:only-of-type {\n",
              "        vertical-align: middle;\n",
              "    }\n",
              "\n",
              "    .dataframe tbody tr th {\n",
              "        vertical-align: top;\n",
              "    }\n",
              "\n",
              "    .dataframe thead th {\n",
              "        text-align: right;\n",
              "    }\n",
              "</style>\n",
              "<table border=\"1\" class=\"dataframe\">\n",
              "  <thead>\n",
              "    <tr style=\"text-align: right;\">\n",
              "      <th></th>\n",
              "      <th>age</th>\n",
              "      <th>job</th>\n",
              "      <th>marital</th>\n",
              "      <th>education</th>\n",
              "      <th>default</th>\n",
              "      <th>housing</th>\n",
              "      <th>loan</th>\n",
              "      <th>contact</th>\n",
              "      <th>month</th>\n",
              "      <th>day_of_week</th>\n",
              "      <th>duration</th>\n",
              "      <th>campaign</th>\n",
              "      <th>pdays</th>\n",
              "      <th>previous</th>\n",
              "      <th>poutcome</th>\n",
              "    </tr>\n",
              "  </thead>\n",
              "  <tbody>\n",
              "    <tr>\n",
              "      <th>3482</th>\n",
              "      <td>0.533333</td>\n",
              "      <td>0.228259</td>\n",
              "      <td>0.601761</td>\n",
              "      <td>0.040219</td>\n",
              "      <td>0.211109</td>\n",
              "      <td>0.450599</td>\n",
              "      <td>0.837153</td>\n",
              "      <td>0</td>\n",
              "      <td>5</td>\n",
              "      <td>1</td>\n",
              "      <td>0.123288</td>\n",
              "      <td>0.0</td>\n",
              "      <td>0.0</td>\n",
              "      <td>0.0</td>\n",
              "      <td>0.859918</td>\n",
              "    </tr>\n",
              "    <tr>\n",
              "      <th>2966</th>\n",
              "      <td>0.000000</td>\n",
              "      <td>0.023372</td>\n",
              "      <td>0.114737</td>\n",
              "      <td>0.228563</td>\n",
              "      <td>0.788587</td>\n",
              "      <td>0.526028</td>\n",
              "      <td>0.139475</td>\n",
              "      <td>1</td>\n",
              "      <td>4</td>\n",
              "      <td>5</td>\n",
              "      <td>2.433790</td>\n",
              "      <td>0.0</td>\n",
              "      <td>0.0</td>\n",
              "      <td>1.0</td>\n",
              "      <td>0.106086</td>\n",
              "    </tr>\n",
              "    <tr>\n",
              "      <th>6691</th>\n",
              "      <td>-0.866667</td>\n",
              "      <td>0.228259</td>\n",
              "      <td>0.601761</td>\n",
              "      <td>0.228563</td>\n",
              "      <td>0.211109</td>\n",
              "      <td>0.450599</td>\n",
              "      <td>0.837153</td>\n",
              "      <td>1</td>\n",
              "      <td>7</td>\n",
              "      <td>2</td>\n",
              "      <td>-0.059361</td>\n",
              "      <td>1.0</td>\n",
              "      <td>0.0</td>\n",
              "      <td>0.0</td>\n",
              "      <td>0.859918</td>\n",
              "    </tr>\n",
              "    <tr>\n",
              "      <th>1083</th>\n",
              "      <td>1.733333</td>\n",
              "      <td>0.023372</td>\n",
              "      <td>0.601761</td>\n",
              "      <td>0.107148</td>\n",
              "      <td>0.788587</td>\n",
              "      <td>0.450599</td>\n",
              "      <td>0.837153</td>\n",
              "      <td>1</td>\n",
              "      <td>12</td>\n",
              "      <td>4</td>\n",
              "      <td>1.095890</td>\n",
              "      <td>-0.5</td>\n",
              "      <td>-993.0</td>\n",
              "      <td>2.0</td>\n",
              "      <td>0.033996</td>\n",
              "    </tr>\n",
              "    <tr>\n",
              "      <th>7970</th>\n",
              "      <td>0.666667</td>\n",
              "      <td>0.166034</td>\n",
              "      <td>0.601761</td>\n",
              "      <td>0.228563</td>\n",
              "      <td>0.211109</td>\n",
              "      <td>0.526028</td>\n",
              "      <td>0.837153</td>\n",
              "      <td>1</td>\n",
              "      <td>7</td>\n",
              "      <td>2</td>\n",
              "      <td>-0.388128</td>\n",
              "      <td>1.0</td>\n",
              "      <td>0.0</td>\n",
              "      <td>0.0</td>\n",
              "      <td>0.859918</td>\n",
              "    </tr>\n",
              "  </tbody>\n",
              "</table>\n",
              "</div>\n",
              "    <div class=\"colab-df-buttons\">\n",
              "\n",
              "  <div class=\"colab-df-container\">\n",
              "    <button class=\"colab-df-convert\" onclick=\"convertToInteractive('df-4229c44f-1fd8-426c-9d9d-bf7420d46dca')\"\n",
              "            title=\"Convert this dataframe to an interactive table.\"\n",
              "            style=\"display:none;\">\n",
              "\n",
              "  <svg xmlns=\"http://www.w3.org/2000/svg\" height=\"24px\" viewBox=\"0 -960 960 960\">\n",
              "    <path d=\"M120-120v-720h720v720H120Zm60-500h600v-160H180v160Zm220 220h160v-160H400v160Zm0 220h160v-160H400v160ZM180-400h160v-160H180v160Zm440 0h160v-160H620v160ZM180-180h160v-160H180v160Zm440 0h160v-160H620v160Z\"/>\n",
              "  </svg>\n",
              "    </button>\n",
              "\n",
              "  <style>\n",
              "    .colab-df-container {\n",
              "      display:flex;\n",
              "      gap: 12px;\n",
              "    }\n",
              "\n",
              "    .colab-df-convert {\n",
              "      background-color: #E8F0FE;\n",
              "      border: none;\n",
              "      border-radius: 50%;\n",
              "      cursor: pointer;\n",
              "      display: none;\n",
              "      fill: #1967D2;\n",
              "      height: 32px;\n",
              "      padding: 0 0 0 0;\n",
              "      width: 32px;\n",
              "    }\n",
              "\n",
              "    .colab-df-convert:hover {\n",
              "      background-color: #E2EBFA;\n",
              "      box-shadow: 0px 1px 2px rgba(60, 64, 67, 0.3), 0px 1px 3px 1px rgba(60, 64, 67, 0.15);\n",
              "      fill: #174EA6;\n",
              "    }\n",
              "\n",
              "    .colab-df-buttons div {\n",
              "      margin-bottom: 4px;\n",
              "    }\n",
              "\n",
              "    [theme=dark] .colab-df-convert {\n",
              "      background-color: #3B4455;\n",
              "      fill: #D2E3FC;\n",
              "    }\n",
              "\n",
              "    [theme=dark] .colab-df-convert:hover {\n",
              "      background-color: #434B5C;\n",
              "      box-shadow: 0px 1px 3px 1px rgba(0, 0, 0, 0.15);\n",
              "      filter: drop-shadow(0px 1px 2px rgba(0, 0, 0, 0.3));\n",
              "      fill: #FFFFFF;\n",
              "    }\n",
              "  </style>\n",
              "\n",
              "    <script>\n",
              "      const buttonEl =\n",
              "        document.querySelector('#df-4229c44f-1fd8-426c-9d9d-bf7420d46dca button.colab-df-convert');\n",
              "      buttonEl.style.display =\n",
              "        google.colab.kernel.accessAllowed ? 'block' : 'none';\n",
              "\n",
              "      async function convertToInteractive(key) {\n",
              "        const element = document.querySelector('#df-4229c44f-1fd8-426c-9d9d-bf7420d46dca');\n",
              "        const dataTable =\n",
              "          await google.colab.kernel.invokeFunction('convertToInteractive',\n",
              "                                                    [key], {});\n",
              "        if (!dataTable) return;\n",
              "\n",
              "        const docLinkHtml = 'Like what you see? Visit the ' +\n",
              "          '<a target=\"_blank\" href=https://colab.research.google.com/notebooks/data_table.ipynb>data table notebook</a>'\n",
              "          + ' to learn more about interactive tables.';\n",
              "        element.innerHTML = '';\n",
              "        dataTable['output_type'] = 'display_data';\n",
              "        await google.colab.output.renderOutput(dataTable, element);\n",
              "        const docLink = document.createElement('div');\n",
              "        docLink.innerHTML = docLinkHtml;\n",
              "        element.appendChild(docLink);\n",
              "      }\n",
              "    </script>\n",
              "  </div>\n",
              "\n",
              "\n",
              "<div id=\"df-124082f3-ed23-47e5-9aaa-90771ef9cfab\">\n",
              "  <button class=\"colab-df-quickchart\" onclick=\"quickchart('df-124082f3-ed23-47e5-9aaa-90771ef9cfab')\"\n",
              "            title=\"Suggest charts\"\n",
              "            style=\"display:none;\">\n",
              "\n",
              "<svg xmlns=\"http://www.w3.org/2000/svg\" height=\"24px\"viewBox=\"0 0 24 24\"\n",
              "     width=\"24px\">\n",
              "    <g>\n",
              "        <path d=\"M19 3H5c-1.1 0-2 .9-2 2v14c0 1.1.9 2 2 2h14c1.1 0 2-.9 2-2V5c0-1.1-.9-2-2-2zM9 17H7v-7h2v7zm4 0h-2V7h2v10zm4 0h-2v-4h2v4z\"/>\n",
              "    </g>\n",
              "</svg>\n",
              "  </button>\n",
              "\n",
              "<style>\n",
              "  .colab-df-quickchart {\n",
              "      --bg-color: #E8F0FE;\n",
              "      --fill-color: #1967D2;\n",
              "      --hover-bg-color: #E2EBFA;\n",
              "      --hover-fill-color: #174EA6;\n",
              "      --disabled-fill-color: #AAA;\n",
              "      --disabled-bg-color: #DDD;\n",
              "  }\n",
              "\n",
              "  [theme=dark] .colab-df-quickchart {\n",
              "      --bg-color: #3B4455;\n",
              "      --fill-color: #D2E3FC;\n",
              "      --hover-bg-color: #434B5C;\n",
              "      --hover-fill-color: #FFFFFF;\n",
              "      --disabled-bg-color: #3B4455;\n",
              "      --disabled-fill-color: #666;\n",
              "  }\n",
              "\n",
              "  .colab-df-quickchart {\n",
              "    background-color: var(--bg-color);\n",
              "    border: none;\n",
              "    border-radius: 50%;\n",
              "    cursor: pointer;\n",
              "    display: none;\n",
              "    fill: var(--fill-color);\n",
              "    height: 32px;\n",
              "    padding: 0;\n",
              "    width: 32px;\n",
              "  }\n",
              "\n",
              "  .colab-df-quickchart:hover {\n",
              "    background-color: var(--hover-bg-color);\n",
              "    box-shadow: 0 1px 2px rgba(60, 64, 67, 0.3), 0 1px 3px 1px rgba(60, 64, 67, 0.15);\n",
              "    fill: var(--button-hover-fill-color);\n",
              "  }\n",
              "\n",
              "  .colab-df-quickchart-complete:disabled,\n",
              "  .colab-df-quickchart-complete:disabled:hover {\n",
              "    background-color: var(--disabled-bg-color);\n",
              "    fill: var(--disabled-fill-color);\n",
              "    box-shadow: none;\n",
              "  }\n",
              "\n",
              "  .colab-df-spinner {\n",
              "    border: 2px solid var(--fill-color);\n",
              "    border-color: transparent;\n",
              "    border-bottom-color: var(--fill-color);\n",
              "    animation:\n",
              "      spin 1s steps(1) infinite;\n",
              "  }\n",
              "\n",
              "  @keyframes spin {\n",
              "    0% {\n",
              "      border-color: transparent;\n",
              "      border-bottom-color: var(--fill-color);\n",
              "      border-left-color: var(--fill-color);\n",
              "    }\n",
              "    20% {\n",
              "      border-color: transparent;\n",
              "      border-left-color: var(--fill-color);\n",
              "      border-top-color: var(--fill-color);\n",
              "    }\n",
              "    30% {\n",
              "      border-color: transparent;\n",
              "      border-left-color: var(--fill-color);\n",
              "      border-top-color: var(--fill-color);\n",
              "      border-right-color: var(--fill-color);\n",
              "    }\n",
              "    40% {\n",
              "      border-color: transparent;\n",
              "      border-right-color: var(--fill-color);\n",
              "      border-top-color: var(--fill-color);\n",
              "    }\n",
              "    60% {\n",
              "      border-color: transparent;\n",
              "      border-right-color: var(--fill-color);\n",
              "    }\n",
              "    80% {\n",
              "      border-color: transparent;\n",
              "      border-right-color: var(--fill-color);\n",
              "      border-bottom-color: var(--fill-color);\n",
              "    }\n",
              "    90% {\n",
              "      border-color: transparent;\n",
              "      border-bottom-color: var(--fill-color);\n",
              "    }\n",
              "  }\n",
              "</style>\n",
              "\n",
              "  <script>\n",
              "    async function quickchart(key) {\n",
              "      const quickchartButtonEl =\n",
              "        document.querySelector('#' + key + ' button');\n",
              "      quickchartButtonEl.disabled = true;  // To prevent multiple clicks.\n",
              "      quickchartButtonEl.classList.add('colab-df-spinner');\n",
              "      try {\n",
              "        const charts = await google.colab.kernel.invokeFunction(\n",
              "            'suggestCharts', [key], {});\n",
              "      } catch (error) {\n",
              "        console.error('Error during call to suggestCharts:', error);\n",
              "      }\n",
              "      quickchartButtonEl.classList.remove('colab-df-spinner');\n",
              "      quickchartButtonEl.classList.add('colab-df-quickchart-complete');\n",
              "    }\n",
              "    (() => {\n",
              "      let quickchartButtonEl =\n",
              "        document.querySelector('#df-124082f3-ed23-47e5-9aaa-90771ef9cfab button');\n",
              "      quickchartButtonEl.style.display =\n",
              "        google.colab.kernel.accessAllowed ? 'block' : 'none';\n",
              "    })();\n",
              "  </script>\n",
              "</div>\n",
              "\n",
              "    </div>\n",
              "  </div>\n"
            ],
            "text/plain": [
              "           age       job   marital  education   default   housing      loan  \\\n",
              "3482  0.533333  0.228259  0.601761   0.040219  0.211109  0.450599  0.837153   \n",
              "2966  0.000000  0.023372  0.114737   0.228563  0.788587  0.526028  0.139475   \n",
              "6691 -0.866667  0.228259  0.601761   0.228563  0.211109  0.450599  0.837153   \n",
              "1083  1.733333  0.023372  0.601761   0.107148  0.788587  0.450599  0.837153   \n",
              "7970  0.666667  0.166034  0.601761   0.228563  0.211109  0.526028  0.837153   \n",
              "\n",
              "      contact  month  day_of_week  duration  campaign  pdays  previous  \\\n",
              "3482        0      5            1  0.123288       0.0    0.0       0.0   \n",
              "2966        1      4            5  2.433790       0.0    0.0       1.0   \n",
              "6691        1      7            2 -0.059361       1.0    0.0       0.0   \n",
              "1083        1     12            4  1.095890      -0.5 -993.0       2.0   \n",
              "7970        1      7            2 -0.388128       1.0    0.0       0.0   \n",
              "\n",
              "      poutcome  \n",
              "3482  0.859918  \n",
              "2966  0.106086  \n",
              "6691  0.859918  \n",
              "1083  0.033996  \n",
              "7970  0.859918  "
            ]
          },
          "execution_count": 20,
          "metadata": {},
          "output_type": "execute_result"
        }
      ],
      "source": [
        "X_train.head()"
      ]
    },
    {
      "cell_type": "markdown",
      "metadata": {
        "id": "PcDtBjygGDXi"
      },
      "source": [
        "Now all of the columns have been scaled"
      ]
    },
    {
      "cell_type": "markdown",
      "metadata": {
        "id": "H7cT8cnJQ6Qm"
      },
      "source": [
        "## Modelling"
      ]
    },
    {
      "cell_type": "markdown",
      "metadata": {
        "id": "xxA2Dn3UlvAR"
      },
      "source": [
        "#### Random Forest"
      ]
    },
    {
      "cell_type": "code",
      "execution_count": 21,
      "metadata": {
        "colab": {
          "base_uri": "https://localhost:8080/"
        },
        "id": "19t5I1gEi6wF",
        "outputId": "e45318ad-91d1-446e-c70a-8b6f28603e24"
      },
      "outputs": [
        {
          "name": "stdout",
          "output_type": "stream",
          "text": [
            "Random Forest Accuracy: 0.8956310679611651\n",
            "Random Forest Precision: 0.5700934579439252\n",
            "Random Forest F1-score: 0.4149659863945579\n",
            "Random Forest Classification Report:\n",
            "               precision    recall  f1-score   support\n",
            "\n",
            "           0       0.92      0.97      0.94      1461\n",
            "           1       0.57      0.33      0.41       187\n",
            "\n",
            "    accuracy                           0.90      1648\n",
            "   macro avg       0.74      0.65      0.68      1648\n",
            "weighted avg       0.88      0.90      0.88      1648\n",
            "\n"
          ]
        }
      ],
      "source": [
        "rf_model = RandomForestClassifier(n_estimators=100, random_state=42)\n",
        "rf_model.fit(X_train, y_train)\n",
        "rf_preds = rf_model.predict(X_test)\n",
        "\n",
        "rf_accuracy = accuracy_score(y_test, rf_preds)\n",
        "rf_precision = precision_score(y_test, rf_preds)\n",
        "rf_f1 = f1_score(y_test, rf_preds)\n",
        "print(\"Random Forest Accuracy:\", rf_accuracy)\n",
        "print(\"Random Forest Precision:\", rf_precision)\n",
        "print(\"Random Forest F1-score:\", rf_f1)\n",
        "print(\"Random Forest Classification Report:\\n\", classification_report(y_test, rf_preds))"
      ]
    },
    {
      "cell_type": "markdown",
      "metadata": {
        "id": "5dbp-fnLlyR6"
      },
      "source": [
        "#### Bagging"
      ]
    },
    {
      "cell_type": "code",
      "execution_count": 22,
      "metadata": {
        "colab": {
          "base_uri": "https://localhost:8080/"
        },
        "id": "bHYLmBT-l1nb",
        "outputId": "7f99cd9b-c379-4ceb-dcf5-1cfdd47acb8e"
      },
      "outputs": [
        {
          "name": "stderr",
          "output_type": "stream",
          "text": [
            "/usr/local/lib/python3.10/dist-packages/sklearn/ensemble/_base.py:166: FutureWarning: `base_estimator` was renamed to `estimator` in version 1.2 and will be removed in 1.4.\n",
            "  warnings.warn(\n"
          ]
        },
        {
          "name": "stdout",
          "output_type": "stream",
          "text": [
            "Bagging Accuracy: 0.9004854368932039\n",
            "Bagging Precision: 0.6116504854368932\n",
            "Bagging F1-score: 0.43448275862068964\n",
            "Bagging Classification Report:\n",
            "               precision    recall  f1-score   support\n",
            "\n",
            "           0       0.92      0.97      0.95      1461\n",
            "           1       0.61      0.34      0.43       187\n",
            "\n",
            "    accuracy                           0.90      1648\n",
            "   macro avg       0.77      0.65      0.69      1648\n",
            "weighted avg       0.88      0.90      0.89      1648\n",
            "\n"
          ]
        }
      ],
      "source": [
        "bagging_model = BaggingClassifier(base_estimator=RandomForestClassifier(), n_estimators=10, random_state=42)\n",
        "bagging_model.fit(X_train, y_train)\n",
        "bagging_preds = bagging_model.predict(X_test)\n",
        "\n",
        "bagging_accuracy = accuracy_score(y_test, bagging_preds)\n",
        "bagging_precision = precision_score(y_test, bagging_preds)\n",
        "bagging_f1 = f1_score(y_test, bagging_preds)\n",
        "print(\"Bagging Accuracy:\", bagging_accuracy)\n",
        "print(\"Bagging Precision:\", bagging_precision)\n",
        "print(\"Bagging F1-score:\", bagging_f1)\n",
        "print(\"Bagging Classification Report:\\n\", classification_report(y_test, bagging_preds))"
      ]
    },
    {
      "cell_type": "markdown",
      "metadata": {
        "id": "yQUPDbakl2By"
      },
      "source": [
        "#### Boosting (Gradient Boosting)"
      ]
    },
    {
      "cell_type": "code",
      "execution_count": 23,
      "metadata": {
        "colab": {
          "base_uri": "https://localhost:8080/"
        },
        "id": "iJxakM0nl4Ix",
        "outputId": "6412ac74-80a6-4447-c703-6c7a0861932f"
      },
      "outputs": [
        {
          "name": "stdout",
          "output_type": "stream",
          "text": [
            "Gradient Boosting Accuracy: 0.9004854368932039\n",
            "Gradient Boosting Precision: 0.5905511811023622\n",
            "Gradient Boosting F1-score: 0.47770700636942676\n",
            "Gradient Boosting Classification Report:\n",
            "               precision    recall  f1-score   support\n",
            "\n",
            "           0       0.93      0.96      0.95      1461\n",
            "           1       0.59      0.40      0.48       187\n",
            "\n",
            "    accuracy                           0.90      1648\n",
            "   macro avg       0.76      0.68      0.71      1648\n",
            "weighted avg       0.89      0.90      0.89      1648\n",
            "\n"
          ]
        }
      ],
      "source": [
        "gb_model = GradientBoostingClassifier(n_estimators=100, learning_rate=0.1, random_state=42)\n",
        "gb_model.fit(X_train, y_train)\n",
        "gb_preds = gb_model.predict(X_test)\n",
        "\n",
        "gb_accuracy = accuracy_score(y_test, gb_preds)\n",
        "gb_precision = precision_score(y_test, gb_preds)\n",
        "gb_f1 = f1_score(y_test, gb_preds)\n",
        "print(\"Gradient Boosting Accuracy:\", gb_accuracy)\n",
        "print(\"Gradient Boosting Precision:\", gb_precision)\n",
        "print(\"Gradient Boosting F1-score:\", gb_f1)\n",
        "print(\"Gradient Boosting Classification Report:\\n\", classification_report(y_test, gb_preds))"
      ]
    },
    {
      "cell_type": "markdown",
      "metadata": {
        "id": "V8Q891Dbl4nb"
      },
      "source": [
        "#### Stacking"
      ]
    },
    {
      "cell_type": "code",
      "execution_count": 24,
      "metadata": {
        "colab": {
          "base_uri": "https://localhost:8080/"
        },
        "id": "BC7bW5PHl6dh",
        "outputId": "0696431c-4b28-4454-e518-630df17605f1"
      },
      "outputs": [
        {
          "name": "stdout",
          "output_type": "stream",
          "text": [
            "Stacking Accuracy: 0.9023058252427184\n",
            "Stacking Precision: 0.6015625\n",
            "Stacking F1-score: 0.48888888888888893\n",
            "Stacking Classification Report:\n",
            "               precision    recall  f1-score   support\n",
            "\n",
            "           0       0.93      0.97      0.95      1461\n",
            "           1       0.60      0.41      0.49       187\n",
            "\n",
            "    accuracy                           0.90      1648\n",
            "   macro avg       0.76      0.69      0.72      1648\n",
            "weighted avg       0.89      0.90      0.89      1648\n",
            "\n"
          ]
        }
      ],
      "source": [
        "estimators = [\n",
        "    ('rf', RandomForestClassifier(n_estimators=100, random_state=42)),\n",
        "    ('gb', GradientBoostingClassifier(n_estimators=100, learning_rate=0.1, random_state=42))\n",
        "]\n",
        "\n",
        "stacking_model = StackingClassifier(estimators=estimators, final_estimator=LogisticRegression())\n",
        "stacking_model.fit(X_train, y_train)\n",
        "stacking_preds = stacking_model.predict(X_test)\n",
        "\n",
        "stacking_accuracy = accuracy_score(y_test, stacking_preds)\n",
        "stacking_precision = precision_score(y_test, stacking_preds)\n",
        "stacking_f1 = f1_score(y_test, stacking_preds)\n",
        "print(\"Stacking Accuracy:\", stacking_accuracy)\n",
        "print(\"Stacking Precision:\", stacking_precision)\n",
        "print(\"Stacking F1-score:\", stacking_f1)\n",
        "print(\"Stacking Classification Report:\\n\", classification_report(y_test, stacking_preds))"
      ]
    },
    {
      "cell_type": "markdown",
      "metadata": {
        "id": "-xBPuzWxmHUI"
      },
      "source": [
        "#### Summary of Results"
      ]
    },
    {
      "cell_type": "code",
      "execution_count": 25,
      "metadata": {
        "colab": {
          "base_uri": "https://localhost:8080/"
        },
        "id": "wfF_cDOGmI8f",
        "outputId": "7cbac332-3c31-4293-9ae8-087f8ea220e3"
      },
      "outputs": [
        {
          "name": "stdout",
          "output_type": "stream",
          "text": [
            "Model Evaluation Summary:\n",
            "| Model             |   Accuracy |   Precision Class 0 (No) |   Precision Class 1 (Yes) |   F1-score Class 0 (No) |   F1-score Class 1 (Yes) |\n",
            "|-------------------|------------|--------------------------|---------------------------|-------------------------|--------------------------|\n",
            "| Random Forest     |   0.895631 |                 0.918235 |                  0.570093 |                0.942705 |                 0.414966 |\n",
            "| Bagging           |   0.900485 |                 0.919741 |                  0.61165  |                0.945442 |                 0.434483 |\n",
            "| Gradient Boosting |   0.900485 |                 0.926364 |                  0.590551 |                0.945003 |                 0.477707 |\n",
            "| Stacking          |   0.902306 |                 0.927632 |                  0.601562 |                0.945991 |                 0.488889 |\n"
          ]
        }
      ],
      "source": [
        "rf_precision_class_0 = precision_score(y_test, rf_preds, pos_label=0)\n",
        "rf_precision_class_1 = precision_score(y_test, rf_preds, pos_label=1)\n",
        "rf_f1_class_0 = f1_score(y_test, rf_preds, pos_label=0)\n",
        "rf_f1_class_1 = f1_score(y_test, rf_preds, pos_label=1)\n",
        "\n",
        "bagging_precision_class_0 = precision_score(y_test, bagging_preds, pos_label=0)\n",
        "bagging_precision_class_1 = precision_score(y_test, bagging_preds, pos_label=1)\n",
        "bagging_f1_class_0 = f1_score(y_test, bagging_preds, pos_label=0)\n",
        "bagging_f1_class_1 = f1_score(y_test, bagging_preds, pos_label=1)\n",
        "\n",
        "gb_precision_class_0 = precision_score(y_test, gb_preds, pos_label=0)\n",
        "gb_precision_class_1 = precision_score(y_test, gb_preds, pos_label=1)\n",
        "gb_f1_class_0 = f1_score(y_test, gb_preds, pos_label=0)\n",
        "gb_f1_class_1 = f1_score(y_test, gb_preds, pos_label=1)\n",
        "\n",
        "stacking_precision_class_0 = precision_score(y_test, stacking_preds, pos_label=0)\n",
        "stacking_precision_class_1 = precision_score(y_test, stacking_preds, pos_label=1)\n",
        "stacking_f1_class_0 = f1_score(y_test, stacking_preds, pos_label=0)\n",
        "stacking_f1_class_1 = f1_score(y_test, stacking_preds, pos_label=1)\n",
        "\n",
        "models = [\"Random Forest\", \"Bagging\", \"Gradient Boosting\", \"Stacking\"]\n",
        "accuracies = [rf_accuracy, bagging_accuracy, gb_accuracy, stacking_accuracy]\n",
        "precision_class_0 = [rf_precision_class_0, bagging_precision_class_0, gb_precision_class_0, stacking_precision_class_0]\n",
        "precision_class_1 = [rf_precision_class_1, bagging_precision_class_1, gb_precision_class_1, stacking_precision_class_1]\n",
        "f1_class_0 = [rf_f1_class_0, bagging_f1_class_0, gb_f1_class_0, stacking_f1_class_0]\n",
        "f1_class_1 = [rf_f1_class_1, bagging_f1_class_1, gb_f1_class_1, stacking_f1_class_1]\n",
        "\n",
        "results = {\n",
        "    \"Model\": models,\n",
        "    \"Accuracy\": accuracies,\n",
        "    \"Precision Class 0 (No)\": precision_class_0,\n",
        "    \"Precision Class 1 (Yes)\": precision_class_1,\n",
        "    \"F1-score Class 0 (No)\": f1_class_0,\n",
        "    \"F1-score Class 1 (Yes)\": f1_class_1\n",
        "}\n",
        "\n",
        "results_df = pd.DataFrame(results)\n",
        "\n",
        "results_df.set_index(\"Model\", inplace=True)\n",
        "\n",
        "print(\"Model Evaluation Summary:\")\n",
        "print(tabulate(results_df, headers='keys', tablefmt='github'))"
      ]
    },
    {
      "cell_type": "markdown",
      "metadata": {
        "id": "cLAm5t-Jdjq8"
      },
      "source": [
        "\n",
        "Precision is the proportion of true positive predictions compared to all positive predictions made by the model.\n",
        "\n",
        "F1-score is the harmonic mean of precision and recall. It provides a balance between precision and recall, as often we want to consider both metrics together. F1-score is useful when seeking a balance between precision and recall, especially when the distribution of the target classes is uneven."
      ]
    },
    {
      "cell_type": "markdown",
      "metadata": {
        "id": "Rv6gA5-IwkZD"
      },
      "source": [
        "We can see that the best is the stacking model, so we take it into pickle file"
      ]
    },
    {
      "cell_type": "code",
      "execution_count": 26,
      "metadata": {
        "colab": {
          "base_uri": "https://localhost:8080/"
        },
        "id": "KI8ha5A0n-9N",
        "outputId": "54c2c657-ed32-4829-b043-6c15adbd16a4"
      },
      "outputs": [
        {
          "name": "stdout",
          "output_type": "stream",
          "text": [
            "Stacking model has been saved to 'stacking_model.pkl'\n"
          ]
        }
      ],
      "source": [
        "with open('stacking_model.pkl', 'wb') as file:\n",
        "    joblib.dump(stacking_model, file)\n",
        "\n",
        "print(\"Stacking model has been saved to 'stacking_model.pkl'\")"
      ]
    },
    {
      "cell_type": "code",
      "execution_count": 27,
      "metadata": {
        "colab": {
          "base_uri": "https://localhost:8080/"
        },
        "id": "_g5x7zvmOPEh",
        "outputId": "4cb7f445-6791-4c5c-b8bd-5234ce0fcbdb"
      },
      "outputs": [
        {
          "name": "stdout",
          "output_type": "stream",
          "text": [
            "1.25.2\n"
          ]
        }
      ],
      "source": [
        "print(np.__version__)"
      ]
    },
    {
      "cell_type": "markdown",
      "metadata": {
        "id": "GB4Hw4vAtKo1"
      },
      "source": [
        "# Thank You"
      ]
    }
  ],
  "metadata": {
    "colab": {
      "provenance": []
    },
    "kernelspec": {
      "display_name": "Python 3",
      "name": "python3"
    },
    "language_info": {
      "name": "python"
    }
  },
  "nbformat": 4,
  "nbformat_minor": 0
}
